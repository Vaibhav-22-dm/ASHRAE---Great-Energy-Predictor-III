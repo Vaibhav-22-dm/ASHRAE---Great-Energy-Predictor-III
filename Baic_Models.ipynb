{
  "cells": [
    {
      "cell_type": "markdown",
      "metadata": {
        "id": "Oew9TQ46UxS1"
      },
      "source": [
        "#Energy Predictor"
      ]
    },
    {
      "cell_type": "markdown",
      "metadata": {
        "id": "YU5L1DMOU39s"
      },
      "source": [
        "##Steps \n",
        "  1. Downloading datasets, Installing Packages & Loading data into dataframes\n",
        "  2. Exploratory Data Analysis\n",
        "  4. Data Cleaning\n",
        "  4. Feature Engineering\n",
        "  5. Training & Evaluating different Machine Learning models"
      ]
    },
    {
      "cell_type": "markdown",
      "metadata": {
        "id": "Z810BytQVbwn"
      },
      "source": [
        "##1. Downloading datasets, Installing Packages & Loading data into dataframes"
      ]
    },
    {
      "cell_type": "markdown",
      "source": [
        "####Installing packages & Downloading datasets"
      ],
      "metadata": {
        "id": "tjmOP_bbUhtw"
      }
    },
    {
      "cell_type": "markdown",
      "source": [
        "- Install opendatasets to download the required datasets from Kaggle.\n",
        "- Add the kaggle API file containing username, API key to the files folder or enter the credentials when asked."
      ],
      "metadata": {
        "id": "_etrfyi4M4FA"
      }
    },
    {
      "cell_type": "code",
      "execution_count": 1,
      "metadata": {
        "colab": {
          "base_uri": "https://localhost:8080/"
        },
        "id": "4athjqluOvMd",
        "outputId": "e6f61473-bb36-4ba3-a689-0c80d55de4fc"
      },
      "outputs": [
        {
          "output_type": "stream",
          "name": "stdout",
          "text": [
            "Looking in indexes: https://pypi.org/simple, https://us-python.pkg.dev/colab-wheels/public/simple/\n",
            "Collecting opendatasets\n",
            "  Downloading opendatasets-0.1.22-py3-none-any.whl (15 kB)\n",
            "Requirement already satisfied: click in /usr/local/lib/python3.7/dist-packages (from opendatasets) (7.1.2)\n",
            "Requirement already satisfied: kaggle in /usr/local/lib/python3.7/dist-packages (from opendatasets) (1.5.12)\n",
            "Requirement already satisfied: tqdm in /usr/local/lib/python3.7/dist-packages (from opendatasets) (4.64.0)\n",
            "Requirement already satisfied: requests in /usr/local/lib/python3.7/dist-packages (from kaggle->opendatasets) (2.23.0)\n",
            "Requirement already satisfied: six>=1.10 in /usr/local/lib/python3.7/dist-packages (from kaggle->opendatasets) (1.15.0)\n",
            "Requirement already satisfied: urllib3 in /usr/local/lib/python3.7/dist-packages (from kaggle->opendatasets) (1.24.3)\n",
            "Requirement already satisfied: python-dateutil in /usr/local/lib/python3.7/dist-packages (from kaggle->opendatasets) (2.8.2)\n",
            "Requirement already satisfied: python-slugify in /usr/local/lib/python3.7/dist-packages (from kaggle->opendatasets) (6.1.2)\n",
            "Requirement already satisfied: certifi in /usr/local/lib/python3.7/dist-packages (from kaggle->opendatasets) (2022.6.15)\n",
            "Requirement already satisfied: text-unidecode>=1.3 in /usr/local/lib/python3.7/dist-packages (from python-slugify->kaggle->opendatasets) (1.3)\n",
            "Requirement already satisfied: idna<3,>=2.5 in /usr/local/lib/python3.7/dist-packages (from requests->kaggle->opendatasets) (2.10)\n",
            "Requirement already satisfied: chardet<4,>=3.0.2 in /usr/local/lib/python3.7/dist-packages (from requests->kaggle->opendatasets) (3.0.4)\n",
            "Installing collected packages: opendatasets\n",
            "Successfully installed opendatasets-0.1.22\n"
          ]
        }
      ],
      "source": [
        "!pip install opendatasets"
      ]
    },
    {
      "cell_type": "code",
      "execution_count": 2,
      "metadata": {
        "id": "Mwdu8fawOy0w"
      },
      "outputs": [],
      "source": [
        "import opendatasets as od\n",
        "import numpy as np\n",
        "import pandas as pd\n",
        "import matplotlib.pyplot as plt\n",
        "import random\n",
        "import seaborn as sns"
      ]
    },
    {
      "cell_type": "code",
      "execution_count": 3,
      "metadata": {
        "id": "NtA4RozHO4Z6"
      },
      "outputs": [],
      "source": [
        "download_url = 'https://www.kaggle.com/competitions/ashrae-energy-prediction/'"
      ]
    },
    {
      "cell_type": "code",
      "execution_count": 4,
      "metadata": {
        "colab": {
          "base_uri": "https://localhost:8080/"
        },
        "id": "C8rmvwn3O6yC",
        "outputId": "b66d9374-32e1-40fa-c3ca-c596b97cc37e"
      },
      "outputs": [
        {
          "output_type": "stream",
          "name": "stdout",
          "text": [
            "Downloading ashrae-energy-prediction.zip to ./ashrae-energy-prediction\n"
          ]
        },
        {
          "output_type": "stream",
          "name": "stderr",
          "text": [
            "100%|██████████| 379M/379M [00:02<00:00, 142MB/s]\n"
          ]
        },
        {
          "output_type": "stream",
          "name": "stdout",
          "text": [
            "\n",
            "Extracting archive ./ashrae-energy-prediction/ashrae-energy-prediction.zip to ./ashrae-energy-prediction\n"
          ]
        }
      ],
      "source": [
        "od.download(download_url)"
      ]
    },
    {
      "cell_type": "code",
      "execution_count": 5,
      "metadata": {
        "id": "S5MIU1hrO8dC"
      },
      "outputs": [],
      "source": [
        "data_dir = 'ashrae-energy-prediction/'"
      ]
    },
    {
      "cell_type": "markdown",
      "metadata": {
        "id": "L0TXX4_FWxUo"
      },
      "source": [
        "####Loading different CSV files into Dataframes"
      ]
    },
    {
      "cell_type": "markdown",
      "source": [
        "Utility Function to randomly read only 1% rows from the csv file"
      ],
      "metadata": {
        "id": "PQdGwx2zCCep"
      }
    },
    {
      "cell_type": "code",
      "source": [
        "sample_fraction = 0.01\n",
        "\n",
        "random.seed(42)\n",
        "def skip_row(row_idx):\n",
        "  if row_idx == 0:\n",
        "    return False\n",
        "  else:\n",
        "    return random.random() > sample_fraction"
      ],
      "metadata": {
        "id": "OS9BGlR5LdhP"
      },
      "execution_count": 6,
      "outputs": []
    },
    {
      "cell_type": "code",
      "source": [
        "#loading data\n",
        "train = pd.read_csv(data_dir+'train.csv', parse_dates=['timestamp'], skiprows=skip_row)\n",
        "weather_train = pd.read_csv(data_dir+'weather_train.csv', parse_dates=['timestamp'])\n",
        "building_metadata = pd.read_csv(data_dir+'building_metadata.csv')"
      ],
      "metadata": {
        "id": "cjB6SopoNUAX"
      },
      "execution_count": 7,
      "outputs": []
    },
    {
      "cell_type": "markdown",
      "source": [
        "##2. Exploratory Data Analysis"
      ],
      "metadata": {
        "id": "HHEiPkxWle52"
      }
    },
    {
      "cell_type": "code",
      "source": [
        "train.meter.value_counts()"
      ],
      "metadata": {
        "colab": {
          "base_uri": "https://localhost:8080/"
        },
        "id": "DLaOMzsHk-K5",
        "outputId": "2d96002f-2445-40d2-ea77-46f45475eb51"
      },
      "execution_count": 8,
      "outputs": [
        {
          "output_type": "execute_result",
          "data": {
            "text/plain": [
              "0    119909\n",
              "1     41395\n",
              "2     26986\n",
              "3     12507\n",
              "Name: meter, dtype: int64"
            ]
          },
          "metadata": {},
          "execution_count": 8
        }
      ]
    },
    {
      "cell_type": "code",
      "source": [
        "len(train)"
      ],
      "metadata": {
        "colab": {
          "base_uri": "https://localhost:8080/"
        },
        "id": "9FDGj19QLsSF",
        "outputId": "49f11d95-b502-438d-9c3f-a6c7e7118f69"
      },
      "execution_count": 9,
      "outputs": [
        {
          "output_type": "execute_result",
          "data": {
            "text/plain": [
              "200797"
            ]
          },
          "metadata": {},
          "execution_count": 9
        }
      ]
    },
    {
      "cell_type": "code",
      "source": [
        "buildings = train.building_id.unique()\n",
        "num_builds = []\n",
        "for x in range(16):\n",
        "  df = building_metadata[building_metadata.site_id==x]\n",
        "  num_builds.append(df.building_id.unique())"
      ],
      "metadata": {
        "id": "lYZICiGpJiiW"
      },
      "execution_count": 10,
      "outputs": []
    },
    {
      "cell_type": "code",
      "source": [
        "total_sum = 0\n",
        "for x in num_builds:\n",
        "  total_sum += len(x)\n",
        "  print(len(x))\n",
        "total_sum"
      ],
      "metadata": {
        "colab": {
          "base_uri": "https://localhost:8080/"
        },
        "id": "o25yotjWJ9Zz",
        "outputId": "b42f4d90-f0d9-42b6-88ac-674d3ac3ce2d"
      },
      "execution_count": 11,
      "outputs": [
        {
          "output_type": "stream",
          "name": "stdout",
          "text": [
            "105\n",
            "51\n",
            "135\n",
            "274\n",
            "91\n",
            "89\n",
            "44\n",
            "15\n",
            "70\n",
            "124\n",
            "30\n",
            "5\n",
            "36\n",
            "154\n",
            "102\n",
            "124\n"
          ]
        },
        {
          "output_type": "execute_result",
          "data": {
            "text/plain": [
              "1449"
            ]
          },
          "metadata": {},
          "execution_count": 11
        }
      ]
    },
    {
      "cell_type": "markdown",
      "source": [
        "##3. Data Cleaning"
      ],
      "metadata": {
        "id": "DCi-EoFs2VNT"
      }
    },
    {
      "cell_type": "markdown",
      "source": [
        "####Handling Missing Values"
      ],
      "metadata": {
        "id": "BGkgWhXM3iyw"
      }
    },
    {
      "cell_type": "markdown",
      "source": [
        "A utility function to get summary of missing values in a dataset"
      ],
      "metadata": {
        "id": "XpQ9GsoQ64jc"
      }
    },
    {
      "cell_type": "code",
      "source": [
        "def get_missing_info(df):\n",
        "  num_entries = df.shape[0]*df.shape[1]\n",
        "  num_nulls = df.isna().sum().sum()\n",
        "  percent_null = num_nulls/num_entries*100\n",
        "  num_missing = df.isna().sum()\n",
        "  percent_missing = num_missing/len(df)*100\n",
        "  col_modes = df.mode().loc[0] #returns the zeroth row of dataframe of modes of all columns(modes becuase more than one values can be the most frequent values in a column)\n",
        "  percent_mode = [df[x].isin([df[x].mode()[0]]).sum()/len(df)*100 for x in df]\n",
        "  missing_value_df = pd.DataFrame({'num_missing':num_missing,\n",
        "                                   'percent_missing':percent_missing,\n",
        "                                   'mode':col_modes,\n",
        "                                   'percent_mode':percent_mode})\n",
        "  print('total empty percent:', percent_null, '%')\n",
        "  print('columns that are more than 97% mode:', missing_value_df.loc[missing_value_df['percent_mode']>97].index.values)\n",
        "  return missing_value_df\n"
      ],
      "metadata": {
        "id": "xw1w0Z8O3n6E"
      },
      "execution_count": 12,
      "outputs": []
    },
    {
      "cell_type": "code",
      "source": [
        "get_missing_info(train)"
      ],
      "metadata": {
        "colab": {
          "base_uri": "https://localhost:8080/",
          "height": 0
        },
        "id": "0gMLsjTRym9S",
        "outputId": "bfca6e2f-87d0-4313-c7d8-0a180517d2dc"
      },
      "execution_count": 13,
      "outputs": [
        {
          "output_type": "stream",
          "name": "stdout",
          "text": [
            "total empty percent: 0.0 %\n",
            "columns that are more than 97% mode: []\n"
          ]
        },
        {
          "output_type": "execute_result",
          "data": {
            "text/plain": [
              "               num_missing  percent_missing                 mode  percent_mode\n",
              "building_id              0              0.0                 1249      0.182772\n",
              "meter                    0              0.0                  0.0     59.716530\n",
              "timestamp                0              0.0  2016-01-30 01:00:00      0.021415\n",
              "meter_reading            0              0.0                  0.0      9.280517"
            ],
            "text/html": [
              "\n",
              "  <div id=\"df-950556c2-6396-40be-985f-092984a3750f\">\n",
              "    <div class=\"colab-df-container\">\n",
              "      <div>\n",
              "<style scoped>\n",
              "    .dataframe tbody tr th:only-of-type {\n",
              "        vertical-align: middle;\n",
              "    }\n",
              "\n",
              "    .dataframe tbody tr th {\n",
              "        vertical-align: top;\n",
              "    }\n",
              "\n",
              "    .dataframe thead th {\n",
              "        text-align: right;\n",
              "    }\n",
              "</style>\n",
              "<table border=\"1\" class=\"dataframe\">\n",
              "  <thead>\n",
              "    <tr style=\"text-align: right;\">\n",
              "      <th></th>\n",
              "      <th>num_missing</th>\n",
              "      <th>percent_missing</th>\n",
              "      <th>mode</th>\n",
              "      <th>percent_mode</th>\n",
              "    </tr>\n",
              "  </thead>\n",
              "  <tbody>\n",
              "    <tr>\n",
              "      <th>building_id</th>\n",
              "      <td>0</td>\n",
              "      <td>0.0</td>\n",
              "      <td>1249</td>\n",
              "      <td>0.182772</td>\n",
              "    </tr>\n",
              "    <tr>\n",
              "      <th>meter</th>\n",
              "      <td>0</td>\n",
              "      <td>0.0</td>\n",
              "      <td>0.0</td>\n",
              "      <td>59.716530</td>\n",
              "    </tr>\n",
              "    <tr>\n",
              "      <th>timestamp</th>\n",
              "      <td>0</td>\n",
              "      <td>0.0</td>\n",
              "      <td>2016-01-30 01:00:00</td>\n",
              "      <td>0.021415</td>\n",
              "    </tr>\n",
              "    <tr>\n",
              "      <th>meter_reading</th>\n",
              "      <td>0</td>\n",
              "      <td>0.0</td>\n",
              "      <td>0.0</td>\n",
              "      <td>9.280517</td>\n",
              "    </tr>\n",
              "  </tbody>\n",
              "</table>\n",
              "</div>\n",
              "      <button class=\"colab-df-convert\" onclick=\"convertToInteractive('df-950556c2-6396-40be-985f-092984a3750f')\"\n",
              "              title=\"Convert this dataframe to an interactive table.\"\n",
              "              style=\"display:none;\">\n",
              "        \n",
              "  <svg xmlns=\"http://www.w3.org/2000/svg\" height=\"24px\"viewBox=\"0 0 24 24\"\n",
              "       width=\"24px\">\n",
              "    <path d=\"M0 0h24v24H0V0z\" fill=\"none\"/>\n",
              "    <path d=\"M18.56 5.44l.94 2.06.94-2.06 2.06-.94-2.06-.94-.94-2.06-.94 2.06-2.06.94zm-11 1L8.5 8.5l.94-2.06 2.06-.94-2.06-.94L8.5 2.5l-.94 2.06-2.06.94zm10 10l.94 2.06.94-2.06 2.06-.94-2.06-.94-.94-2.06-.94 2.06-2.06.94z\"/><path d=\"M17.41 7.96l-1.37-1.37c-.4-.4-.92-.59-1.43-.59-.52 0-1.04.2-1.43.59L10.3 9.45l-7.72 7.72c-.78.78-.78 2.05 0 2.83L4 21.41c.39.39.9.59 1.41.59.51 0 1.02-.2 1.41-.59l7.78-7.78 2.81-2.81c.8-.78.8-2.07 0-2.86zM5.41 20L4 18.59l7.72-7.72 1.47 1.35L5.41 20z\"/>\n",
              "  </svg>\n",
              "      </button>\n",
              "      \n",
              "  <style>\n",
              "    .colab-df-container {\n",
              "      display:flex;\n",
              "      flex-wrap:wrap;\n",
              "      gap: 12px;\n",
              "    }\n",
              "\n",
              "    .colab-df-convert {\n",
              "      background-color: #E8F0FE;\n",
              "      border: none;\n",
              "      border-radius: 50%;\n",
              "      cursor: pointer;\n",
              "      display: none;\n",
              "      fill: #1967D2;\n",
              "      height: 32px;\n",
              "      padding: 0 0 0 0;\n",
              "      width: 32px;\n",
              "    }\n",
              "\n",
              "    .colab-df-convert:hover {\n",
              "      background-color: #E2EBFA;\n",
              "      box-shadow: 0px 1px 2px rgba(60, 64, 67, 0.3), 0px 1px 3px 1px rgba(60, 64, 67, 0.15);\n",
              "      fill: #174EA6;\n",
              "    }\n",
              "\n",
              "    [theme=dark] .colab-df-convert {\n",
              "      background-color: #3B4455;\n",
              "      fill: #D2E3FC;\n",
              "    }\n",
              "\n",
              "    [theme=dark] .colab-df-convert:hover {\n",
              "      background-color: #434B5C;\n",
              "      box-shadow: 0px 1px 3px 1px rgba(0, 0, 0, 0.15);\n",
              "      filter: drop-shadow(0px 1px 2px rgba(0, 0, 0, 0.3));\n",
              "      fill: #FFFFFF;\n",
              "    }\n",
              "  </style>\n",
              "\n",
              "      <script>\n",
              "        const buttonEl =\n",
              "          document.querySelector('#df-950556c2-6396-40be-985f-092984a3750f button.colab-df-convert');\n",
              "        buttonEl.style.display =\n",
              "          google.colab.kernel.accessAllowed ? 'block' : 'none';\n",
              "\n",
              "        async function convertToInteractive(key) {\n",
              "          const element = document.querySelector('#df-950556c2-6396-40be-985f-092984a3750f');\n",
              "          const dataTable =\n",
              "            await google.colab.kernel.invokeFunction('convertToInteractive',\n",
              "                                                     [key], {});\n",
              "          if (!dataTable) return;\n",
              "\n",
              "          const docLinkHtml = 'Like what you see? Visit the ' +\n",
              "            '<a target=\"_blank\" href=https://colab.research.google.com/notebooks/data_table.ipynb>data table notebook</a>'\n",
              "            + ' to learn more about interactive tables.';\n",
              "          element.innerHTML = '';\n",
              "          dataTable['output_type'] = 'display_data';\n",
              "          await google.colab.output.renderOutput(dataTable, element);\n",
              "          const docLink = document.createElement('div');\n",
              "          docLink.innerHTML = docLinkHtml;\n",
              "          element.appendChild(docLink);\n",
              "        }\n",
              "      </script>\n",
              "    </div>\n",
              "  </div>\n",
              "  "
            ]
          },
          "metadata": {},
          "execution_count": 13
        }
      ]
    },
    {
      "cell_type": "code",
      "source": [
        "get_missing_info(building_metadata)"
      ],
      "metadata": {
        "colab": {
          "base_uri": "https://localhost:8080/",
          "height": 0
        },
        "id": "zxwnku02zCLB",
        "outputId": "ffa0ff1e-13ff-46d4-c471-f3bc55f34702"
      },
      "execution_count": 14,
      "outputs": [
        {
          "output_type": "stream",
          "name": "stdout",
          "text": [
            "total empty percent: 21.486082355647575 %\n",
            "columns that are more than 97% mode: []\n"
          ]
        },
        {
          "output_type": "execute_result",
          "data": {
            "text/plain": [
              "             num_missing  percent_missing       mode  percent_mode\n",
              "site_id                0         0.000000        3.0     18.909593\n",
              "building_id            0         0.000000          0      0.069013\n",
              "primary_use            0         0.000000  Education     37.888199\n",
              "square_feet            0         0.000000   387638.0      0.483092\n",
              "year_built           774        53.416149     1976.0      3.795721\n",
              "floor_count         1094        75.500345        1.0      7.522429"
            ],
            "text/html": [
              "\n",
              "  <div id=\"df-2a131d73-e9d7-45de-b20d-a65e55493209\">\n",
              "    <div class=\"colab-df-container\">\n",
              "      <div>\n",
              "<style scoped>\n",
              "    .dataframe tbody tr th:only-of-type {\n",
              "        vertical-align: middle;\n",
              "    }\n",
              "\n",
              "    .dataframe tbody tr th {\n",
              "        vertical-align: top;\n",
              "    }\n",
              "\n",
              "    .dataframe thead th {\n",
              "        text-align: right;\n",
              "    }\n",
              "</style>\n",
              "<table border=\"1\" class=\"dataframe\">\n",
              "  <thead>\n",
              "    <tr style=\"text-align: right;\">\n",
              "      <th></th>\n",
              "      <th>num_missing</th>\n",
              "      <th>percent_missing</th>\n",
              "      <th>mode</th>\n",
              "      <th>percent_mode</th>\n",
              "    </tr>\n",
              "  </thead>\n",
              "  <tbody>\n",
              "    <tr>\n",
              "      <th>site_id</th>\n",
              "      <td>0</td>\n",
              "      <td>0.000000</td>\n",
              "      <td>3.0</td>\n",
              "      <td>18.909593</td>\n",
              "    </tr>\n",
              "    <tr>\n",
              "      <th>building_id</th>\n",
              "      <td>0</td>\n",
              "      <td>0.000000</td>\n",
              "      <td>0</td>\n",
              "      <td>0.069013</td>\n",
              "    </tr>\n",
              "    <tr>\n",
              "      <th>primary_use</th>\n",
              "      <td>0</td>\n",
              "      <td>0.000000</td>\n",
              "      <td>Education</td>\n",
              "      <td>37.888199</td>\n",
              "    </tr>\n",
              "    <tr>\n",
              "      <th>square_feet</th>\n",
              "      <td>0</td>\n",
              "      <td>0.000000</td>\n",
              "      <td>387638.0</td>\n",
              "      <td>0.483092</td>\n",
              "    </tr>\n",
              "    <tr>\n",
              "      <th>year_built</th>\n",
              "      <td>774</td>\n",
              "      <td>53.416149</td>\n",
              "      <td>1976.0</td>\n",
              "      <td>3.795721</td>\n",
              "    </tr>\n",
              "    <tr>\n",
              "      <th>floor_count</th>\n",
              "      <td>1094</td>\n",
              "      <td>75.500345</td>\n",
              "      <td>1.0</td>\n",
              "      <td>7.522429</td>\n",
              "    </tr>\n",
              "  </tbody>\n",
              "</table>\n",
              "</div>\n",
              "      <button class=\"colab-df-convert\" onclick=\"convertToInteractive('df-2a131d73-e9d7-45de-b20d-a65e55493209')\"\n",
              "              title=\"Convert this dataframe to an interactive table.\"\n",
              "              style=\"display:none;\">\n",
              "        \n",
              "  <svg xmlns=\"http://www.w3.org/2000/svg\" height=\"24px\"viewBox=\"0 0 24 24\"\n",
              "       width=\"24px\">\n",
              "    <path d=\"M0 0h24v24H0V0z\" fill=\"none\"/>\n",
              "    <path d=\"M18.56 5.44l.94 2.06.94-2.06 2.06-.94-2.06-.94-.94-2.06-.94 2.06-2.06.94zm-11 1L8.5 8.5l.94-2.06 2.06-.94-2.06-.94L8.5 2.5l-.94 2.06-2.06.94zm10 10l.94 2.06.94-2.06 2.06-.94-2.06-.94-.94-2.06-.94 2.06-2.06.94z\"/><path d=\"M17.41 7.96l-1.37-1.37c-.4-.4-.92-.59-1.43-.59-.52 0-1.04.2-1.43.59L10.3 9.45l-7.72 7.72c-.78.78-.78 2.05 0 2.83L4 21.41c.39.39.9.59 1.41.59.51 0 1.02-.2 1.41-.59l7.78-7.78 2.81-2.81c.8-.78.8-2.07 0-2.86zM5.41 20L4 18.59l7.72-7.72 1.47 1.35L5.41 20z\"/>\n",
              "  </svg>\n",
              "      </button>\n",
              "      \n",
              "  <style>\n",
              "    .colab-df-container {\n",
              "      display:flex;\n",
              "      flex-wrap:wrap;\n",
              "      gap: 12px;\n",
              "    }\n",
              "\n",
              "    .colab-df-convert {\n",
              "      background-color: #E8F0FE;\n",
              "      border: none;\n",
              "      border-radius: 50%;\n",
              "      cursor: pointer;\n",
              "      display: none;\n",
              "      fill: #1967D2;\n",
              "      height: 32px;\n",
              "      padding: 0 0 0 0;\n",
              "      width: 32px;\n",
              "    }\n",
              "\n",
              "    .colab-df-convert:hover {\n",
              "      background-color: #E2EBFA;\n",
              "      box-shadow: 0px 1px 2px rgba(60, 64, 67, 0.3), 0px 1px 3px 1px rgba(60, 64, 67, 0.15);\n",
              "      fill: #174EA6;\n",
              "    }\n",
              "\n",
              "    [theme=dark] .colab-df-convert {\n",
              "      background-color: #3B4455;\n",
              "      fill: #D2E3FC;\n",
              "    }\n",
              "\n",
              "    [theme=dark] .colab-df-convert:hover {\n",
              "      background-color: #434B5C;\n",
              "      box-shadow: 0px 1px 3px 1px rgba(0, 0, 0, 0.15);\n",
              "      filter: drop-shadow(0px 1px 2px rgba(0, 0, 0, 0.3));\n",
              "      fill: #FFFFFF;\n",
              "    }\n",
              "  </style>\n",
              "\n",
              "      <script>\n",
              "        const buttonEl =\n",
              "          document.querySelector('#df-2a131d73-e9d7-45de-b20d-a65e55493209 button.colab-df-convert');\n",
              "        buttonEl.style.display =\n",
              "          google.colab.kernel.accessAllowed ? 'block' : 'none';\n",
              "\n",
              "        async function convertToInteractive(key) {\n",
              "          const element = document.querySelector('#df-2a131d73-e9d7-45de-b20d-a65e55493209');\n",
              "          const dataTable =\n",
              "            await google.colab.kernel.invokeFunction('convertToInteractive',\n",
              "                                                     [key], {});\n",
              "          if (!dataTable) return;\n",
              "\n",
              "          const docLinkHtml = 'Like what you see? Visit the ' +\n",
              "            '<a target=\"_blank\" href=https://colab.research.google.com/notebooks/data_table.ipynb>data table notebook</a>'\n",
              "            + ' to learn more about interactive tables.';\n",
              "          element.innerHTML = '';\n",
              "          dataTable['output_type'] = 'display_data';\n",
              "          await google.colab.output.renderOutput(dataTable, element);\n",
              "          const docLink = document.createElement('div');\n",
              "          docLink.innerHTML = docLinkHtml;\n",
              "          element.appendChild(docLink);\n",
              "        }\n",
              "      </script>\n",
              "    </div>\n",
              "  </div>\n",
              "  "
            ]
          },
          "metadata": {},
          "execution_count": 14
        }
      ]
    },
    {
      "cell_type": "code",
      "source": [
        "#Filling in missing values in the building meta-data column\n",
        "#Making a copy so we are not changing the initial data\n",
        "building_metadata_copy = building_metadata.copy()\n",
        "#Filling all the missing floor counts by the mode (1) and the missing year built by the mean. Nothing else is missing\n",
        "building_metadata_copy.fillna({'floor_count':1, 'year_built':int(building_metadata['year_built'].mean())}, inplace=True) \n",
        "#This is the only categorical column. Converting it so that it can be handled later during fitting\n",
        "building_metadata_copy['primary_use'] = building_metadata_copy['primary_use'].astype('category') "
      ],
      "metadata": {
        "id": "NizsaqqhzUNU"
      },
      "execution_count": 15,
      "outputs": []
    },
    {
      "cell_type": "code",
      "source": [
        "get_missing_info(weather_train)"
      ],
      "metadata": {
        "colab": {
          "base_uri": "https://localhost:8080/",
          "height": 0
        },
        "id": "E380vH00pw_P",
        "outputId": "6b93054d-679b-4a4d-c777-ee5e88676d88"
      },
      "execution_count": 16,
      "outputs": [
        {
          "output_type": "stream",
          "name": "stdout",
          "text": [
            "total empty percent: 10.876365408356566 %\n",
            "columns that are more than 97% mode: []\n"
          ]
        },
        {
          "output_type": "execute_result",
          "data": {
            "text/plain": [
              "                    num_missing  percent_missing                 mode  \\\n",
              "site_id                       0         0.000000                  0.0   \n",
              "timestamp                     0         0.000000  2016-01-01 01:00:00   \n",
              "air_temperature              55         0.039350                 15.0   \n",
              "cloud_coverage            69173        49.489529                  0.0   \n",
              "dew_temperature             113         0.080845                 10.0   \n",
              "precip_depth_1_hr         50289        35.979052                  0.0   \n",
              "sea_level_pressure        10618         7.596603               1015.2   \n",
              "wind_direction             6268         4.484414                  0.0   \n",
              "wind_speed                  304         0.217496                  2.1   \n",
              "\n",
              "                    percent_mode  \n",
              "site_id                 6.284476  \n",
              "timestamp               0.011447  \n",
              "air_temperature         1.947443  \n",
              "cloud_coverage         24.232863  \n",
              "dew_temperature         1.973915  \n",
              "precip_depth_1_hr      55.740379  \n",
              "sea_level_pressure      0.608844  \n",
              "wind_direction          9.410974  \n",
              "wind_speed             10.288825  "
            ],
            "text/html": [
              "\n",
              "  <div id=\"df-6d28d1c1-eaa2-4971-9137-dae72ae185f3\">\n",
              "    <div class=\"colab-df-container\">\n",
              "      <div>\n",
              "<style scoped>\n",
              "    .dataframe tbody tr th:only-of-type {\n",
              "        vertical-align: middle;\n",
              "    }\n",
              "\n",
              "    .dataframe tbody tr th {\n",
              "        vertical-align: top;\n",
              "    }\n",
              "\n",
              "    .dataframe thead th {\n",
              "        text-align: right;\n",
              "    }\n",
              "</style>\n",
              "<table border=\"1\" class=\"dataframe\">\n",
              "  <thead>\n",
              "    <tr style=\"text-align: right;\">\n",
              "      <th></th>\n",
              "      <th>num_missing</th>\n",
              "      <th>percent_missing</th>\n",
              "      <th>mode</th>\n",
              "      <th>percent_mode</th>\n",
              "    </tr>\n",
              "  </thead>\n",
              "  <tbody>\n",
              "    <tr>\n",
              "      <th>site_id</th>\n",
              "      <td>0</td>\n",
              "      <td>0.000000</td>\n",
              "      <td>0.0</td>\n",
              "      <td>6.284476</td>\n",
              "    </tr>\n",
              "    <tr>\n",
              "      <th>timestamp</th>\n",
              "      <td>0</td>\n",
              "      <td>0.000000</td>\n",
              "      <td>2016-01-01 01:00:00</td>\n",
              "      <td>0.011447</td>\n",
              "    </tr>\n",
              "    <tr>\n",
              "      <th>air_temperature</th>\n",
              "      <td>55</td>\n",
              "      <td>0.039350</td>\n",
              "      <td>15.0</td>\n",
              "      <td>1.947443</td>\n",
              "    </tr>\n",
              "    <tr>\n",
              "      <th>cloud_coverage</th>\n",
              "      <td>69173</td>\n",
              "      <td>49.489529</td>\n",
              "      <td>0.0</td>\n",
              "      <td>24.232863</td>\n",
              "    </tr>\n",
              "    <tr>\n",
              "      <th>dew_temperature</th>\n",
              "      <td>113</td>\n",
              "      <td>0.080845</td>\n",
              "      <td>10.0</td>\n",
              "      <td>1.973915</td>\n",
              "    </tr>\n",
              "    <tr>\n",
              "      <th>precip_depth_1_hr</th>\n",
              "      <td>50289</td>\n",
              "      <td>35.979052</td>\n",
              "      <td>0.0</td>\n",
              "      <td>55.740379</td>\n",
              "    </tr>\n",
              "    <tr>\n",
              "      <th>sea_level_pressure</th>\n",
              "      <td>10618</td>\n",
              "      <td>7.596603</td>\n",
              "      <td>1015.2</td>\n",
              "      <td>0.608844</td>\n",
              "    </tr>\n",
              "    <tr>\n",
              "      <th>wind_direction</th>\n",
              "      <td>6268</td>\n",
              "      <td>4.484414</td>\n",
              "      <td>0.0</td>\n",
              "      <td>9.410974</td>\n",
              "    </tr>\n",
              "    <tr>\n",
              "      <th>wind_speed</th>\n",
              "      <td>304</td>\n",
              "      <td>0.217496</td>\n",
              "      <td>2.1</td>\n",
              "      <td>10.288825</td>\n",
              "    </tr>\n",
              "  </tbody>\n",
              "</table>\n",
              "</div>\n",
              "      <button class=\"colab-df-convert\" onclick=\"convertToInteractive('df-6d28d1c1-eaa2-4971-9137-dae72ae185f3')\"\n",
              "              title=\"Convert this dataframe to an interactive table.\"\n",
              "              style=\"display:none;\">\n",
              "        \n",
              "  <svg xmlns=\"http://www.w3.org/2000/svg\" height=\"24px\"viewBox=\"0 0 24 24\"\n",
              "       width=\"24px\">\n",
              "    <path d=\"M0 0h24v24H0V0z\" fill=\"none\"/>\n",
              "    <path d=\"M18.56 5.44l.94 2.06.94-2.06 2.06-.94-2.06-.94-.94-2.06-.94 2.06-2.06.94zm-11 1L8.5 8.5l.94-2.06 2.06-.94-2.06-.94L8.5 2.5l-.94 2.06-2.06.94zm10 10l.94 2.06.94-2.06 2.06-.94-2.06-.94-.94-2.06-.94 2.06-2.06.94z\"/><path d=\"M17.41 7.96l-1.37-1.37c-.4-.4-.92-.59-1.43-.59-.52 0-1.04.2-1.43.59L10.3 9.45l-7.72 7.72c-.78.78-.78 2.05 0 2.83L4 21.41c.39.39.9.59 1.41.59.51 0 1.02-.2 1.41-.59l7.78-7.78 2.81-2.81c.8-.78.8-2.07 0-2.86zM5.41 20L4 18.59l7.72-7.72 1.47 1.35L5.41 20z\"/>\n",
              "  </svg>\n",
              "      </button>\n",
              "      \n",
              "  <style>\n",
              "    .colab-df-container {\n",
              "      display:flex;\n",
              "      flex-wrap:wrap;\n",
              "      gap: 12px;\n",
              "    }\n",
              "\n",
              "    .colab-df-convert {\n",
              "      background-color: #E8F0FE;\n",
              "      border: none;\n",
              "      border-radius: 50%;\n",
              "      cursor: pointer;\n",
              "      display: none;\n",
              "      fill: #1967D2;\n",
              "      height: 32px;\n",
              "      padding: 0 0 0 0;\n",
              "      width: 32px;\n",
              "    }\n",
              "\n",
              "    .colab-df-convert:hover {\n",
              "      background-color: #E2EBFA;\n",
              "      box-shadow: 0px 1px 2px rgba(60, 64, 67, 0.3), 0px 1px 3px 1px rgba(60, 64, 67, 0.15);\n",
              "      fill: #174EA6;\n",
              "    }\n",
              "\n",
              "    [theme=dark] .colab-df-convert {\n",
              "      background-color: #3B4455;\n",
              "      fill: #D2E3FC;\n",
              "    }\n",
              "\n",
              "    [theme=dark] .colab-df-convert:hover {\n",
              "      background-color: #434B5C;\n",
              "      box-shadow: 0px 1px 3px 1px rgba(0, 0, 0, 0.15);\n",
              "      filter: drop-shadow(0px 1px 2px rgba(0, 0, 0, 0.3));\n",
              "      fill: #FFFFFF;\n",
              "    }\n",
              "  </style>\n",
              "\n",
              "      <script>\n",
              "        const buttonEl =\n",
              "          document.querySelector('#df-6d28d1c1-eaa2-4971-9137-dae72ae185f3 button.colab-df-convert');\n",
              "        buttonEl.style.display =\n",
              "          google.colab.kernel.accessAllowed ? 'block' : 'none';\n",
              "\n",
              "        async function convertToInteractive(key) {\n",
              "          const element = document.querySelector('#df-6d28d1c1-eaa2-4971-9137-dae72ae185f3');\n",
              "          const dataTable =\n",
              "            await google.colab.kernel.invokeFunction('convertToInteractive',\n",
              "                                                     [key], {});\n",
              "          if (!dataTable) return;\n",
              "\n",
              "          const docLinkHtml = 'Like what you see? Visit the ' +\n",
              "            '<a target=\"_blank\" href=https://colab.research.google.com/notebooks/data_table.ipynb>data table notebook</a>'\n",
              "            + ' to learn more about interactive tables.';\n",
              "          element.innerHTML = '';\n",
              "          dataTable['output_type'] = 'display_data';\n",
              "          await google.colab.output.renderOutput(dataTable, element);\n",
              "          const docLink = document.createElement('div');\n",
              "          docLink.innerHTML = docLinkHtml;\n",
              "          element.appendChild(docLink);\n",
              "        }\n",
              "      </script>\n",
              "    </div>\n",
              "  </div>\n",
              "  "
            ]
          },
          "metadata": {},
          "execution_count": 16
        }
      ]
    },
    {
      "cell_type": "code",
      "source": [
        "#Forward filling missing data in the weather dataset +-24 hours\n",
        "#Train weather\n",
        "weather_train_copy = weather_train.copy() #making a copy so we donn't change our oridinal data\n",
        "weather_train_copy['timestamp'] = pd.to_datetime(weather_train_copy['timestamp']) #converting the timestamp column into a datetime object\n",
        "weather_train_copy = weather_train_copy.sort_values(by=['site_id', 'timestamp']) #sorting values by site id and then timestamp\n",
        "\n",
        "weather_train_copy.fillna(method = 'ffill', inplace=True, limit = 24) #forward filling the missing data up to 12 hours\n",
        "weather_train_copy.fillna(method = 'bfill', inplace=True, limit = 24) #back filling the missing data up to 12 hours"
      ],
      "metadata": {
        "id": "NJx7tl4zv1pk"
      },
      "execution_count": 17,
      "outputs": []
    },
    {
      "cell_type": "code",
      "source": [
        "get_missing_info(weather_train_copy)"
      ],
      "metadata": {
        "colab": {
          "base_uri": "https://localhost:8080/",
          "height": 0
        },
        "id": "dFCEGs1V0MR-",
        "outputId": "691f2f57-78fa-442f-db68-3b665b48790f"
      },
      "execution_count": 18,
      "outputs": [
        {
          "output_type": "stream",
          "name": "stdout",
          "text": [
            "total empty percent: 5.124658474017792 %\n",
            "columns that are more than 97% mode: []\n"
          ]
        },
        {
          "output_type": "execute_result",
          "data": {
            "text/plain": [
              "                    num_missing  percent_missing                 mode  \\\n",
              "site_id                       0         0.000000                  0.0   \n",
              "timestamp                     0         0.000000  2016-01-01 01:00:00   \n",
              "air_temperature               0         0.000000                 15.0   \n",
              "cloud_coverage            20378        14.579354                  0.0   \n",
              "dew_temperature               0         0.000000                 10.0   \n",
              "precip_depth_1_hr         35309        25.261674                  0.0   \n",
              "sea_level_pressure         8779         6.280898               1015.2   \n",
              "wind_direction                0         0.000000                  0.0   \n",
              "wind_speed                    0         0.000000                  2.1   \n",
              "\n",
              "                    percent_mode  \n",
              "site_id                 6.284476  \n",
              "timestamp               0.011447  \n",
              "air_temperature         1.947443  \n",
              "cloud_coverage         36.310303  \n",
              "dew_temperature         1.975346  \n",
              "precip_depth_1_hr      55.996509  \n",
              "sea_level_pressure      0.617430  \n",
              "wind_direction         10.343199  \n",
              "wind_speed             10.333183  "
            ],
            "text/html": [
              "\n",
              "  <div id=\"df-aa7a561b-4b03-4314-a3e4-04a31a1a8904\">\n",
              "    <div class=\"colab-df-container\">\n",
              "      <div>\n",
              "<style scoped>\n",
              "    .dataframe tbody tr th:only-of-type {\n",
              "        vertical-align: middle;\n",
              "    }\n",
              "\n",
              "    .dataframe tbody tr th {\n",
              "        vertical-align: top;\n",
              "    }\n",
              "\n",
              "    .dataframe thead th {\n",
              "        text-align: right;\n",
              "    }\n",
              "</style>\n",
              "<table border=\"1\" class=\"dataframe\">\n",
              "  <thead>\n",
              "    <tr style=\"text-align: right;\">\n",
              "      <th></th>\n",
              "      <th>num_missing</th>\n",
              "      <th>percent_missing</th>\n",
              "      <th>mode</th>\n",
              "      <th>percent_mode</th>\n",
              "    </tr>\n",
              "  </thead>\n",
              "  <tbody>\n",
              "    <tr>\n",
              "      <th>site_id</th>\n",
              "      <td>0</td>\n",
              "      <td>0.000000</td>\n",
              "      <td>0.0</td>\n",
              "      <td>6.284476</td>\n",
              "    </tr>\n",
              "    <tr>\n",
              "      <th>timestamp</th>\n",
              "      <td>0</td>\n",
              "      <td>0.000000</td>\n",
              "      <td>2016-01-01 01:00:00</td>\n",
              "      <td>0.011447</td>\n",
              "    </tr>\n",
              "    <tr>\n",
              "      <th>air_temperature</th>\n",
              "      <td>0</td>\n",
              "      <td>0.000000</td>\n",
              "      <td>15.0</td>\n",
              "      <td>1.947443</td>\n",
              "    </tr>\n",
              "    <tr>\n",
              "      <th>cloud_coverage</th>\n",
              "      <td>20378</td>\n",
              "      <td>14.579354</td>\n",
              "      <td>0.0</td>\n",
              "      <td>36.310303</td>\n",
              "    </tr>\n",
              "    <tr>\n",
              "      <th>dew_temperature</th>\n",
              "      <td>0</td>\n",
              "      <td>0.000000</td>\n",
              "      <td>10.0</td>\n",
              "      <td>1.975346</td>\n",
              "    </tr>\n",
              "    <tr>\n",
              "      <th>precip_depth_1_hr</th>\n",
              "      <td>35309</td>\n",
              "      <td>25.261674</td>\n",
              "      <td>0.0</td>\n",
              "      <td>55.996509</td>\n",
              "    </tr>\n",
              "    <tr>\n",
              "      <th>sea_level_pressure</th>\n",
              "      <td>8779</td>\n",
              "      <td>6.280898</td>\n",
              "      <td>1015.2</td>\n",
              "      <td>0.617430</td>\n",
              "    </tr>\n",
              "    <tr>\n",
              "      <th>wind_direction</th>\n",
              "      <td>0</td>\n",
              "      <td>0.000000</td>\n",
              "      <td>0.0</td>\n",
              "      <td>10.343199</td>\n",
              "    </tr>\n",
              "    <tr>\n",
              "      <th>wind_speed</th>\n",
              "      <td>0</td>\n",
              "      <td>0.000000</td>\n",
              "      <td>2.1</td>\n",
              "      <td>10.333183</td>\n",
              "    </tr>\n",
              "  </tbody>\n",
              "</table>\n",
              "</div>\n",
              "      <button class=\"colab-df-convert\" onclick=\"convertToInteractive('df-aa7a561b-4b03-4314-a3e4-04a31a1a8904')\"\n",
              "              title=\"Convert this dataframe to an interactive table.\"\n",
              "              style=\"display:none;\">\n",
              "        \n",
              "  <svg xmlns=\"http://www.w3.org/2000/svg\" height=\"24px\"viewBox=\"0 0 24 24\"\n",
              "       width=\"24px\">\n",
              "    <path d=\"M0 0h24v24H0V0z\" fill=\"none\"/>\n",
              "    <path d=\"M18.56 5.44l.94 2.06.94-2.06 2.06-.94-2.06-.94-.94-2.06-.94 2.06-2.06.94zm-11 1L8.5 8.5l.94-2.06 2.06-.94-2.06-.94L8.5 2.5l-.94 2.06-2.06.94zm10 10l.94 2.06.94-2.06 2.06-.94-2.06-.94-.94-2.06-.94 2.06-2.06.94z\"/><path d=\"M17.41 7.96l-1.37-1.37c-.4-.4-.92-.59-1.43-.59-.52 0-1.04.2-1.43.59L10.3 9.45l-7.72 7.72c-.78.78-.78 2.05 0 2.83L4 21.41c.39.39.9.59 1.41.59.51 0 1.02-.2 1.41-.59l7.78-7.78 2.81-2.81c.8-.78.8-2.07 0-2.86zM5.41 20L4 18.59l7.72-7.72 1.47 1.35L5.41 20z\"/>\n",
              "  </svg>\n",
              "      </button>\n",
              "      \n",
              "  <style>\n",
              "    .colab-df-container {\n",
              "      display:flex;\n",
              "      flex-wrap:wrap;\n",
              "      gap: 12px;\n",
              "    }\n",
              "\n",
              "    .colab-df-convert {\n",
              "      background-color: #E8F0FE;\n",
              "      border: none;\n",
              "      border-radius: 50%;\n",
              "      cursor: pointer;\n",
              "      display: none;\n",
              "      fill: #1967D2;\n",
              "      height: 32px;\n",
              "      padding: 0 0 0 0;\n",
              "      width: 32px;\n",
              "    }\n",
              "\n",
              "    .colab-df-convert:hover {\n",
              "      background-color: #E2EBFA;\n",
              "      box-shadow: 0px 1px 2px rgba(60, 64, 67, 0.3), 0px 1px 3px 1px rgba(60, 64, 67, 0.15);\n",
              "      fill: #174EA6;\n",
              "    }\n",
              "\n",
              "    [theme=dark] .colab-df-convert {\n",
              "      background-color: #3B4455;\n",
              "      fill: #D2E3FC;\n",
              "    }\n",
              "\n",
              "    [theme=dark] .colab-df-convert:hover {\n",
              "      background-color: #434B5C;\n",
              "      box-shadow: 0px 1px 3px 1px rgba(0, 0, 0, 0.15);\n",
              "      filter: drop-shadow(0px 1px 2px rgba(0, 0, 0, 0.3));\n",
              "      fill: #FFFFFF;\n",
              "    }\n",
              "  </style>\n",
              "\n",
              "      <script>\n",
              "        const buttonEl =\n",
              "          document.querySelector('#df-aa7a561b-4b03-4314-a3e4-04a31a1a8904 button.colab-df-convert');\n",
              "        buttonEl.style.display =\n",
              "          google.colab.kernel.accessAllowed ? 'block' : 'none';\n",
              "\n",
              "        async function convertToInteractive(key) {\n",
              "          const element = document.querySelector('#df-aa7a561b-4b03-4314-a3e4-04a31a1a8904');\n",
              "          const dataTable =\n",
              "            await google.colab.kernel.invokeFunction('convertToInteractive',\n",
              "                                                     [key], {});\n",
              "          if (!dataTable) return;\n",
              "\n",
              "          const docLinkHtml = 'Like what you see? Visit the ' +\n",
              "            '<a target=\"_blank\" href=https://colab.research.google.com/notebooks/data_table.ipynb>data table notebook</a>'\n",
              "            + ' to learn more about interactive tables.';\n",
              "          element.innerHTML = '';\n",
              "          dataTable['output_type'] = 'display_data';\n",
              "          await google.colab.output.renderOutput(dataTable, element);\n",
              "          const docLink = document.createElement('div');\n",
              "          docLink.innerHTML = docLinkHtml;\n",
              "          element.appendChild(docLink);\n",
              "        }\n",
              "      </script>\n",
              "    </div>\n",
              "  </div>\n",
              "  "
            ]
          },
          "metadata": {},
          "execution_count": 18
        }
      ]
    },
    {
      "cell_type": "code",
      "source": [
        "#Train data\n",
        "missing_cols = [col for col in weather_train_copy.columns if weather_train_copy[col].isna().any()] \n",
        "fill_lib = weather_train_copy.groupby('site_id')[missing_cols].transform('mean') #storing the mean of each feature for each site id\n",
        "weather_train_copy.fillna(fill_lib, inplace=True) #for each feature with missing values, filling the missing entry with the mean for that site"
      ],
      "metadata": {
        "id": "tSmebCaB0Tkq"
      },
      "execution_count": 19,
      "outputs": []
    },
    {
      "cell_type": "code",
      "source": [
        "get_missing_info(weather_train_copy)"
      ],
      "metadata": {
        "colab": {
          "base_uri": "https://localhost:8080/",
          "height": 0
        },
        "id": "oEjfJuTZ3FyK",
        "outputId": "f6753ace-5aab-4642-ae9e-10dcf208cbee"
      },
      "execution_count": 20,
      "outputs": [
        {
          "output_type": "stream",
          "name": "stdout",
          "text": [
            "total empty percent: 0.0 %\n",
            "columns that are more than 97% mode: []\n"
          ]
        },
        {
          "output_type": "execute_result",
          "data": {
            "text/plain": [
              "                    num_missing  percent_missing                 mode  \\\n",
              "site_id                       0              0.0                  0.0   \n",
              "timestamp                     0              0.0  2016-01-01 01:00:00   \n",
              "air_temperature               0              0.0                 15.0   \n",
              "cloud_coverage                0              0.0                  0.0   \n",
              "dew_temperature               0              0.0                 10.0   \n",
              "precip_depth_1_hr             0              0.0                  0.0   \n",
              "sea_level_pressure            0              0.0               1016.7   \n",
              "wind_direction                0              0.0                  0.0   \n",
              "wind_speed                    0              0.0                  2.1   \n",
              "\n",
              "                    percent_mode  \n",
              "site_id                 6.284476  \n",
              "timestamp               0.011447  \n",
              "air_temperature         1.947443  \n",
              "cloud_coverage         36.310303  \n",
              "dew_temperature         1.975346  \n",
              "precip_depth_1_hr      68.461720  \n",
              "sea_level_pressure      6.229386  \n",
              "wind_direction         10.343199  \n",
              "wind_speed             10.333183  "
            ],
            "text/html": [
              "\n",
              "  <div id=\"df-3ce7fa53-5389-4cf8-9a93-c94f7ec2cbc0\">\n",
              "    <div class=\"colab-df-container\">\n",
              "      <div>\n",
              "<style scoped>\n",
              "    .dataframe tbody tr th:only-of-type {\n",
              "        vertical-align: middle;\n",
              "    }\n",
              "\n",
              "    .dataframe tbody tr th {\n",
              "        vertical-align: top;\n",
              "    }\n",
              "\n",
              "    .dataframe thead th {\n",
              "        text-align: right;\n",
              "    }\n",
              "</style>\n",
              "<table border=\"1\" class=\"dataframe\">\n",
              "  <thead>\n",
              "    <tr style=\"text-align: right;\">\n",
              "      <th></th>\n",
              "      <th>num_missing</th>\n",
              "      <th>percent_missing</th>\n",
              "      <th>mode</th>\n",
              "      <th>percent_mode</th>\n",
              "    </tr>\n",
              "  </thead>\n",
              "  <tbody>\n",
              "    <tr>\n",
              "      <th>site_id</th>\n",
              "      <td>0</td>\n",
              "      <td>0.0</td>\n",
              "      <td>0.0</td>\n",
              "      <td>6.284476</td>\n",
              "    </tr>\n",
              "    <tr>\n",
              "      <th>timestamp</th>\n",
              "      <td>0</td>\n",
              "      <td>0.0</td>\n",
              "      <td>2016-01-01 01:00:00</td>\n",
              "      <td>0.011447</td>\n",
              "    </tr>\n",
              "    <tr>\n",
              "      <th>air_temperature</th>\n",
              "      <td>0</td>\n",
              "      <td>0.0</td>\n",
              "      <td>15.0</td>\n",
              "      <td>1.947443</td>\n",
              "    </tr>\n",
              "    <tr>\n",
              "      <th>cloud_coverage</th>\n",
              "      <td>0</td>\n",
              "      <td>0.0</td>\n",
              "      <td>0.0</td>\n",
              "      <td>36.310303</td>\n",
              "    </tr>\n",
              "    <tr>\n",
              "      <th>dew_temperature</th>\n",
              "      <td>0</td>\n",
              "      <td>0.0</td>\n",
              "      <td>10.0</td>\n",
              "      <td>1.975346</td>\n",
              "    </tr>\n",
              "    <tr>\n",
              "      <th>precip_depth_1_hr</th>\n",
              "      <td>0</td>\n",
              "      <td>0.0</td>\n",
              "      <td>0.0</td>\n",
              "      <td>68.461720</td>\n",
              "    </tr>\n",
              "    <tr>\n",
              "      <th>sea_level_pressure</th>\n",
              "      <td>0</td>\n",
              "      <td>0.0</td>\n",
              "      <td>1016.7</td>\n",
              "      <td>6.229386</td>\n",
              "    </tr>\n",
              "    <tr>\n",
              "      <th>wind_direction</th>\n",
              "      <td>0</td>\n",
              "      <td>0.0</td>\n",
              "      <td>0.0</td>\n",
              "      <td>10.343199</td>\n",
              "    </tr>\n",
              "    <tr>\n",
              "      <th>wind_speed</th>\n",
              "      <td>0</td>\n",
              "      <td>0.0</td>\n",
              "      <td>2.1</td>\n",
              "      <td>10.333183</td>\n",
              "    </tr>\n",
              "  </tbody>\n",
              "</table>\n",
              "</div>\n",
              "      <button class=\"colab-df-convert\" onclick=\"convertToInteractive('df-3ce7fa53-5389-4cf8-9a93-c94f7ec2cbc0')\"\n",
              "              title=\"Convert this dataframe to an interactive table.\"\n",
              "              style=\"display:none;\">\n",
              "        \n",
              "  <svg xmlns=\"http://www.w3.org/2000/svg\" height=\"24px\"viewBox=\"0 0 24 24\"\n",
              "       width=\"24px\">\n",
              "    <path d=\"M0 0h24v24H0V0z\" fill=\"none\"/>\n",
              "    <path d=\"M18.56 5.44l.94 2.06.94-2.06 2.06-.94-2.06-.94-.94-2.06-.94 2.06-2.06.94zm-11 1L8.5 8.5l.94-2.06 2.06-.94-2.06-.94L8.5 2.5l-.94 2.06-2.06.94zm10 10l.94 2.06.94-2.06 2.06-.94-2.06-.94-.94-2.06-.94 2.06-2.06.94z\"/><path d=\"M17.41 7.96l-1.37-1.37c-.4-.4-.92-.59-1.43-.59-.52 0-1.04.2-1.43.59L10.3 9.45l-7.72 7.72c-.78.78-.78 2.05 0 2.83L4 21.41c.39.39.9.59 1.41.59.51 0 1.02-.2 1.41-.59l7.78-7.78 2.81-2.81c.8-.78.8-2.07 0-2.86zM5.41 20L4 18.59l7.72-7.72 1.47 1.35L5.41 20z\"/>\n",
              "  </svg>\n",
              "      </button>\n",
              "      \n",
              "  <style>\n",
              "    .colab-df-container {\n",
              "      display:flex;\n",
              "      flex-wrap:wrap;\n",
              "      gap: 12px;\n",
              "    }\n",
              "\n",
              "    .colab-df-convert {\n",
              "      background-color: #E8F0FE;\n",
              "      border: none;\n",
              "      border-radius: 50%;\n",
              "      cursor: pointer;\n",
              "      display: none;\n",
              "      fill: #1967D2;\n",
              "      height: 32px;\n",
              "      padding: 0 0 0 0;\n",
              "      width: 32px;\n",
              "    }\n",
              "\n",
              "    .colab-df-convert:hover {\n",
              "      background-color: #E2EBFA;\n",
              "      box-shadow: 0px 1px 2px rgba(60, 64, 67, 0.3), 0px 1px 3px 1px rgba(60, 64, 67, 0.15);\n",
              "      fill: #174EA6;\n",
              "    }\n",
              "\n",
              "    [theme=dark] .colab-df-convert {\n",
              "      background-color: #3B4455;\n",
              "      fill: #D2E3FC;\n",
              "    }\n",
              "\n",
              "    [theme=dark] .colab-df-convert:hover {\n",
              "      background-color: #434B5C;\n",
              "      box-shadow: 0px 1px 3px 1px rgba(0, 0, 0, 0.15);\n",
              "      filter: drop-shadow(0px 1px 2px rgba(0, 0, 0, 0.3));\n",
              "      fill: #FFFFFF;\n",
              "    }\n",
              "  </style>\n",
              "\n",
              "      <script>\n",
              "        const buttonEl =\n",
              "          document.querySelector('#df-3ce7fa53-5389-4cf8-9a93-c94f7ec2cbc0 button.colab-df-convert');\n",
              "        buttonEl.style.display =\n",
              "          google.colab.kernel.accessAllowed ? 'block' : 'none';\n",
              "\n",
              "        async function convertToInteractive(key) {\n",
              "          const element = document.querySelector('#df-3ce7fa53-5389-4cf8-9a93-c94f7ec2cbc0');\n",
              "          const dataTable =\n",
              "            await google.colab.kernel.invokeFunction('convertToInteractive',\n",
              "                                                     [key], {});\n",
              "          if (!dataTable) return;\n",
              "\n",
              "          const docLinkHtml = 'Like what you see? Visit the ' +\n",
              "            '<a target=\"_blank\" href=https://colab.research.google.com/notebooks/data_table.ipynb>data table notebook</a>'\n",
              "            + ' to learn more about interactive tables.';\n",
              "          element.innerHTML = '';\n",
              "          dataTable['output_type'] = 'display_data';\n",
              "          await google.colab.output.renderOutput(dataTable, element);\n",
              "          const docLink = document.createElement('div');\n",
              "          docLink.innerHTML = docLinkHtml;\n",
              "          element.appendChild(docLink);\n",
              "        }\n",
              "      </script>\n",
              "    </div>\n",
              "  </div>\n",
              "  "
            ]
          },
          "metadata": {},
          "execution_count": 20
        }
      ]
    },
    {
      "cell_type": "markdown",
      "source": [
        "####Converting GMT Time of Weather data to Local time"
      ],
      "metadata": {
        "id": "k4rMnHQu5V4t"
      }
    },
    {
      "cell_type": "markdown",
      "source": [
        "These timediff values are obtained from the following notebook - \"locate cities according to weather temperature\""
      ],
      "metadata": {
        "id": "9DV5CDUBFB3z"
      }
    },
    {
      "cell_type": "code",
      "source": [
        "import datetime\n",
        "timediff = {0:4,1:0,2:7,3:4,4:7,5:0,6:4,7:4,8:4,9:5,10:7,11:4,12:0,13:5,14:4,15:4}\n",
        "weather_train_copy['time_diff']= weather_train_copy['site_id'].map(timediff)\n",
        "\n",
        "weather_train_copy['time_diff'] = weather_train_copy['time_diff'].apply(lambda x: datetime.timedelta(hours=x))\n",
        "\n",
        "weather_train_copy['timestamp'] = pd.to_datetime(weather_train_copy['timestamp'])\n",
        "weather_train_copy['timestamp'] = weather_train_copy['timestamp'] - weather_train_copy['time_diff']"
      ],
      "metadata": {
        "id": "gHjgWQNc5tyZ"
      },
      "execution_count": 21,
      "outputs": []
    },
    {
      "cell_type": "markdown",
      "source": [
        "####Merging datasets and Filling missing values"
      ],
      "metadata": {
        "id": "RhLp9-HGFTWv"
      }
    },
    {
      "cell_type": "code",
      "source": [
        "#merging the building meta data and weather data into the train data\n",
        "train_merged = train.merge(building_metadata_copy, how='left', on = ['building_id'], validate='many_to_one') #merging the building meta data into the train data\n",
        "train_merged = train_merged.merge(weather_train_copy, how='left', on = ['site_id', 'timestamp'], validate='many_to_one') #adding weather data to each time entry for each site ID"
      ],
      "metadata": {
        "id": "yqoyLQbe9ibJ"
      },
      "execution_count": 22,
      "outputs": []
    },
    {
      "cell_type": "code",
      "source": [
        "get_missing_info(train_merged)"
      ],
      "metadata": {
        "colab": {
          "base_uri": "https://localhost:8080/",
          "height": 0
        },
        "id": "URkp61O_MeXF",
        "outputId": "67323d22-72e8-45d9-d4ff-fb0c6edda3e1"
      },
      "execution_count": 23,
      "outputs": [
        {
          "output_type": "stream",
          "name": "stdout",
          "text": [
            "total empty percent: 0.2299073486274842 %\n",
            "columns that are more than 97% mode: []\n"
          ]
        },
        {
          "output_type": "execute_result",
          "data": {
            "text/plain": [
              "                    num_missing  percent_missing                 mode  \\\n",
              "building_id                   0         0.000000                 1249   \n",
              "meter                         0         0.000000                  0.0   \n",
              "timestamp                     0         0.000000  2016-01-30 01:00:00   \n",
              "meter_reading                 0         0.000000                  0.0   \n",
              "site_id                       0         0.000000                 13.0   \n",
              "primary_use                   0         0.000000            Education   \n",
              "square_feet                   0         0.000000             387638.0   \n",
              "year_built                    0         0.000000               1967.0   \n",
              "floor_count                   0         0.000000                  1.0   \n",
              "air_temperature             981         0.488553                 24.4   \n",
              "cloud_coverage              981         0.488553                  0.0   \n",
              "dew_temperature             981         0.488553                 10.0   \n",
              "precip_depth_1_hr           981         0.488553                  0.0   \n",
              "sea_level_pressure          981         0.488553               1016.7   \n",
              "wind_direction              981         0.488553                  0.0   \n",
              "wind_speed                  981         0.488553                  0.0   \n",
              "time_diff                   981         0.488553      0 days 04:00:00   \n",
              "\n",
              "                    percent_mode  \n",
              "building_id             0.182772  \n",
              "meter                  59.716530  \n",
              "timestamp               0.021415  \n",
              "meter_reading           9.280517  \n",
              "site_id                13.425997  \n",
              "primary_use            40.222712  \n",
              "square_feet             0.301299  \n",
              "year_built             60.731485  \n",
              "floor_count            87.220427  \n",
              "air_temperature         1.994552  \n",
              "cloud_coverage         38.669402  \n",
              "dew_temperature         1.970647  \n",
              "precip_depth_1_hr      78.600776  \n",
              "sea_level_pressure      3.861611  \n",
              "wind_direction         13.101291  \n",
              "wind_speed             11.744697  \n",
              "time_diff              46.377187  "
            ],
            "text/html": [
              "\n",
              "  <div id=\"df-87c56c38-0b9e-47a7-909f-d220596d590e\">\n",
              "    <div class=\"colab-df-container\">\n",
              "      <div>\n",
              "<style scoped>\n",
              "    .dataframe tbody tr th:only-of-type {\n",
              "        vertical-align: middle;\n",
              "    }\n",
              "\n",
              "    .dataframe tbody tr th {\n",
              "        vertical-align: top;\n",
              "    }\n",
              "\n",
              "    .dataframe thead th {\n",
              "        text-align: right;\n",
              "    }\n",
              "</style>\n",
              "<table border=\"1\" class=\"dataframe\">\n",
              "  <thead>\n",
              "    <tr style=\"text-align: right;\">\n",
              "      <th></th>\n",
              "      <th>num_missing</th>\n",
              "      <th>percent_missing</th>\n",
              "      <th>mode</th>\n",
              "      <th>percent_mode</th>\n",
              "    </tr>\n",
              "  </thead>\n",
              "  <tbody>\n",
              "    <tr>\n",
              "      <th>building_id</th>\n",
              "      <td>0</td>\n",
              "      <td>0.000000</td>\n",
              "      <td>1249</td>\n",
              "      <td>0.182772</td>\n",
              "    </tr>\n",
              "    <tr>\n",
              "      <th>meter</th>\n",
              "      <td>0</td>\n",
              "      <td>0.000000</td>\n",
              "      <td>0.0</td>\n",
              "      <td>59.716530</td>\n",
              "    </tr>\n",
              "    <tr>\n",
              "      <th>timestamp</th>\n",
              "      <td>0</td>\n",
              "      <td>0.000000</td>\n",
              "      <td>2016-01-30 01:00:00</td>\n",
              "      <td>0.021415</td>\n",
              "    </tr>\n",
              "    <tr>\n",
              "      <th>meter_reading</th>\n",
              "      <td>0</td>\n",
              "      <td>0.000000</td>\n",
              "      <td>0.0</td>\n",
              "      <td>9.280517</td>\n",
              "    </tr>\n",
              "    <tr>\n",
              "      <th>site_id</th>\n",
              "      <td>0</td>\n",
              "      <td>0.000000</td>\n",
              "      <td>13.0</td>\n",
              "      <td>13.425997</td>\n",
              "    </tr>\n",
              "    <tr>\n",
              "      <th>primary_use</th>\n",
              "      <td>0</td>\n",
              "      <td>0.000000</td>\n",
              "      <td>Education</td>\n",
              "      <td>40.222712</td>\n",
              "    </tr>\n",
              "    <tr>\n",
              "      <th>square_feet</th>\n",
              "      <td>0</td>\n",
              "      <td>0.000000</td>\n",
              "      <td>387638.0</td>\n",
              "      <td>0.301299</td>\n",
              "    </tr>\n",
              "    <tr>\n",
              "      <th>year_built</th>\n",
              "      <td>0</td>\n",
              "      <td>0.000000</td>\n",
              "      <td>1967.0</td>\n",
              "      <td>60.731485</td>\n",
              "    </tr>\n",
              "    <tr>\n",
              "      <th>floor_count</th>\n",
              "      <td>0</td>\n",
              "      <td>0.000000</td>\n",
              "      <td>1.0</td>\n",
              "      <td>87.220427</td>\n",
              "    </tr>\n",
              "    <tr>\n",
              "      <th>air_temperature</th>\n",
              "      <td>981</td>\n",
              "      <td>0.488553</td>\n",
              "      <td>24.4</td>\n",
              "      <td>1.994552</td>\n",
              "    </tr>\n",
              "    <tr>\n",
              "      <th>cloud_coverage</th>\n",
              "      <td>981</td>\n",
              "      <td>0.488553</td>\n",
              "      <td>0.0</td>\n",
              "      <td>38.669402</td>\n",
              "    </tr>\n",
              "    <tr>\n",
              "      <th>dew_temperature</th>\n",
              "      <td>981</td>\n",
              "      <td>0.488553</td>\n",
              "      <td>10.0</td>\n",
              "      <td>1.970647</td>\n",
              "    </tr>\n",
              "    <tr>\n",
              "      <th>precip_depth_1_hr</th>\n",
              "      <td>981</td>\n",
              "      <td>0.488553</td>\n",
              "      <td>0.0</td>\n",
              "      <td>78.600776</td>\n",
              "    </tr>\n",
              "    <tr>\n",
              "      <th>sea_level_pressure</th>\n",
              "      <td>981</td>\n",
              "      <td>0.488553</td>\n",
              "      <td>1016.7</td>\n",
              "      <td>3.861611</td>\n",
              "    </tr>\n",
              "    <tr>\n",
              "      <th>wind_direction</th>\n",
              "      <td>981</td>\n",
              "      <td>0.488553</td>\n",
              "      <td>0.0</td>\n",
              "      <td>13.101291</td>\n",
              "    </tr>\n",
              "    <tr>\n",
              "      <th>wind_speed</th>\n",
              "      <td>981</td>\n",
              "      <td>0.488553</td>\n",
              "      <td>0.0</td>\n",
              "      <td>11.744697</td>\n",
              "    </tr>\n",
              "    <tr>\n",
              "      <th>time_diff</th>\n",
              "      <td>981</td>\n",
              "      <td>0.488553</td>\n",
              "      <td>0 days 04:00:00</td>\n",
              "      <td>46.377187</td>\n",
              "    </tr>\n",
              "  </tbody>\n",
              "</table>\n",
              "</div>\n",
              "      <button class=\"colab-df-convert\" onclick=\"convertToInteractive('df-87c56c38-0b9e-47a7-909f-d220596d590e')\"\n",
              "              title=\"Convert this dataframe to an interactive table.\"\n",
              "              style=\"display:none;\">\n",
              "        \n",
              "  <svg xmlns=\"http://www.w3.org/2000/svg\" height=\"24px\"viewBox=\"0 0 24 24\"\n",
              "       width=\"24px\">\n",
              "    <path d=\"M0 0h24v24H0V0z\" fill=\"none\"/>\n",
              "    <path d=\"M18.56 5.44l.94 2.06.94-2.06 2.06-.94-2.06-.94-.94-2.06-.94 2.06-2.06.94zm-11 1L8.5 8.5l.94-2.06 2.06-.94-2.06-.94L8.5 2.5l-.94 2.06-2.06.94zm10 10l.94 2.06.94-2.06 2.06-.94-2.06-.94-.94-2.06-.94 2.06-2.06.94z\"/><path d=\"M17.41 7.96l-1.37-1.37c-.4-.4-.92-.59-1.43-.59-.52 0-1.04.2-1.43.59L10.3 9.45l-7.72 7.72c-.78.78-.78 2.05 0 2.83L4 21.41c.39.39.9.59 1.41.59.51 0 1.02-.2 1.41-.59l7.78-7.78 2.81-2.81c.8-.78.8-2.07 0-2.86zM5.41 20L4 18.59l7.72-7.72 1.47 1.35L5.41 20z\"/>\n",
              "  </svg>\n",
              "      </button>\n",
              "      \n",
              "  <style>\n",
              "    .colab-df-container {\n",
              "      display:flex;\n",
              "      flex-wrap:wrap;\n",
              "      gap: 12px;\n",
              "    }\n",
              "\n",
              "    .colab-df-convert {\n",
              "      background-color: #E8F0FE;\n",
              "      border: none;\n",
              "      border-radius: 50%;\n",
              "      cursor: pointer;\n",
              "      display: none;\n",
              "      fill: #1967D2;\n",
              "      height: 32px;\n",
              "      padding: 0 0 0 0;\n",
              "      width: 32px;\n",
              "    }\n",
              "\n",
              "    .colab-df-convert:hover {\n",
              "      background-color: #E2EBFA;\n",
              "      box-shadow: 0px 1px 2px rgba(60, 64, 67, 0.3), 0px 1px 3px 1px rgba(60, 64, 67, 0.15);\n",
              "      fill: #174EA6;\n",
              "    }\n",
              "\n",
              "    [theme=dark] .colab-df-convert {\n",
              "      background-color: #3B4455;\n",
              "      fill: #D2E3FC;\n",
              "    }\n",
              "\n",
              "    [theme=dark] .colab-df-convert:hover {\n",
              "      background-color: #434B5C;\n",
              "      box-shadow: 0px 1px 3px 1px rgba(0, 0, 0, 0.15);\n",
              "      filter: drop-shadow(0px 1px 2px rgba(0, 0, 0, 0.3));\n",
              "      fill: #FFFFFF;\n",
              "    }\n",
              "  </style>\n",
              "\n",
              "      <script>\n",
              "        const buttonEl =\n",
              "          document.querySelector('#df-87c56c38-0b9e-47a7-909f-d220596d590e button.colab-df-convert');\n",
              "        buttonEl.style.display =\n",
              "          google.colab.kernel.accessAllowed ? 'block' : 'none';\n",
              "\n",
              "        async function convertToInteractive(key) {\n",
              "          const element = document.querySelector('#df-87c56c38-0b9e-47a7-909f-d220596d590e');\n",
              "          const dataTable =\n",
              "            await google.colab.kernel.invokeFunction('convertToInteractive',\n",
              "                                                     [key], {});\n",
              "          if (!dataTable) return;\n",
              "\n",
              "          const docLinkHtml = 'Like what you see? Visit the ' +\n",
              "            '<a target=\"_blank\" href=https://colab.research.google.com/notebooks/data_table.ipynb>data table notebook</a>'\n",
              "            + ' to learn more about interactive tables.';\n",
              "          element.innerHTML = '';\n",
              "          dataTable['output_type'] = 'display_data';\n",
              "          await google.colab.output.renderOutput(dataTable, element);\n",
              "          const docLink = document.createElement('div');\n",
              "          docLink.innerHTML = docLinkHtml;\n",
              "          element.appendChild(docLink);\n",
              "        }\n",
              "      </script>\n",
              "    </div>\n",
              "  </div>\n",
              "  "
            ]
          },
          "metadata": {},
          "execution_count": 23
        }
      ]
    },
    {
      "cell_type": "code",
      "source": [
        "#train_data\n",
        "train_merged = train_merged.sort_values(by=['building_id', 'timestamp'])\n",
        "train_merged.fillna(method = 'ffill', inplace=True)"
      ],
      "metadata": {
        "id": "aZmjtvx5MhZU"
      },
      "execution_count": 24,
      "outputs": []
    },
    {
      "cell_type": "markdown",
      "source": [
        "####Reducing Memory Usage by converting datatypes of some columns"
      ],
      "metadata": {
        "id": "YPftB4QKFlhk"
      }
    },
    {
      "cell_type": "markdown",
      "source": [
        "Converting some columns with unnecessarily high memory usage data types to data types with lower memory usage"
      ],
      "metadata": {
        "id": "4VRupanifaXC"
      }
    },
    {
      "cell_type": "code",
      "source": [
        "def reduce_mem_usage(df, verbose=True):\n",
        "    numerics = ['int16', 'int32', 'int64', 'float16', 'float32', 'float64']\n",
        "    start_mem = df.memory_usage().sum() / 1024**2    \n",
        "    for col in df.columns:\n",
        "        col_type = df[col].dtypes\n",
        "        if col_type in numerics:\n",
        "            c_min = df[col].min()\n",
        "            c_max = df[col].max()\n",
        "            if str(col_type)[:3] == 'int':\n",
        "                if c_min > np.iinfo(np.int8).min and c_max < np.iinfo(np.int8).max:\n",
        "                    df[col] = df[col].astype(np.int8)\n",
        "                elif c_min > np.iinfo(np.int16).min and c_max < np.iinfo(np.int16).max:\n",
        "                    df[col] = df[col].astype(np.int16)\n",
        "                elif c_min > np.iinfo(np.int32).min and c_max < np.iinfo(np.int32).max:\n",
        "                    df[col] = df[col].astype(np.int32)\n",
        "                elif c_min > np.iinfo(np.int64).min and c_max < np.iinfo(np.int64).max:\n",
        "                    df[col] = df[col].astype(np.int64)  \n",
        "            else:\n",
        "                if c_min > np.finfo(np.float16).min and c_max < np.finfo(np.float16).max:\n",
        "                    df[col] = df[col].astype(np.float16)\n",
        "                elif c_min > np.finfo(np.float32).min and c_max < np.finfo(np.float32).max:\n",
        "                    df[col] = df[col].astype(np.float32)\n",
        "                else:\n",
        "                    df[col] = df[col].astype(np.float64)    \n",
        "    end_mem = df.memory_usage().sum() / 1024**2\n",
        "    if verbose: print('Mem. usage decreased to {:5.2f} Mb ({:.1f}% reduction)'.format(end_mem, 100 * (start_mem - end_mem) / start_mem))\n",
        "    return df\n",
        "\n",
        "train_merged = reduce_mem_usage(train_merged)"
      ],
      "metadata": {
        "colab": {
          "base_uri": "https://localhost:8080/"
        },
        "id": "z7eQ5JSXMldO",
        "outputId": "0642381e-8d7d-45f7-9707-cf64f4b8964c"
      },
      "execution_count": 25,
      "outputs": [
        {
          "output_type": "stream",
          "name": "stdout",
          "text": [
            "Mem. usage decreased to 10.53 Mb (59.9% reduction)\n"
          ]
        }
      ]
    },
    {
      "cell_type": "markdown",
      "source": [
        "####Outlier Detection & Fixing"
      ],
      "metadata": {
        "id": "S8LsD0gcKoVg"
      }
    },
    {
      "cell_type": "code",
      "source": [
        "for m in range(4):\n",
        "    idxm = train_merged[train_merged['meter']==m].groupby('timestamp')['meter_reading'].idxmax() #index of max meter reading for a timestamp\n",
        "    print('meter {}'.format(m))\n",
        "    #printing the number of hours a building was the highest consumer (top 5 buildings printed)\n",
        "    print(train_merged.loc[idxm, 'building_id'].value_counts().iloc[:5]) "
      ],
      "metadata": {
        "colab": {
          "base_uri": "https://localhost:8080/"
        },
        "id": "7BfsEvP9ONE_",
        "outputId": "4ca9c077-d198-4fb5-9ac5-0948a2437f15"
      },
      "execution_count": 26,
      "outputs": [
        {
          "output_type": "stream",
          "name": "stdout",
          "text": [
            "meter 0\n",
            "794     104\n",
            "801      90\n",
            "795      86\n",
            "1159     83\n",
            "798      82\n",
            "Name: building_id, dtype: int64\n",
            "meter 1\n",
            "1289    90\n",
            "1284    86\n",
            "1298    79\n",
            "1258    78\n",
            "209     75\n",
            "Name: building_id, dtype: int64\n",
            "meter 2\n",
            "1148    98\n",
            "1156    90\n",
            "1197    87\n",
            "1214    86\n",
            "1284    83\n",
            "Name: building_id, dtype: int64\n",
            "meter 3\n",
            "1272    94\n",
            "1018    88\n",
            "1317    86\n",
            "1267    86\n",
            "1273    85\n",
            "Name: building_id, dtype: int64\n"
          ]
        }
      ]
    },
    {
      "cell_type": "code",
      "source": [
        "print('Mean meter 0 reading: outlier building #803')\n",
        "print(train_merged[(train_merged['building_id']==803) & (train_merged['meter']==0)]['meter_reading'].mean())\n",
        "print('Mean meter 0  reading: overall')\n",
        "print(train_merged[(train_merged['meter']==0)]['meter_reading'].mean())"
      ],
      "metadata": {
        "colab": {
          "base_uri": "https://localhost:8080/"
        },
        "id": "3zYCjJgQOVtt",
        "outputId": "4c703e16-0591-4f45-bb61-9b4d2e7fb80d"
      },
      "execution_count": 27,
      "outputs": [
        {
          "output_type": "stream",
          "name": "stdout",
          "text": [
            "Mean meter 0 reading: outlier building #803\n",
            "3934.5771\n",
            "Mean meter 0  reading: overall\n",
            "171.37746\n"
          ]
        }
      ]
    },
    {
      "cell_type": "markdown",
      "source": [
        "Scaling down the meter readings for each building + meter type group"
      ],
      "metadata": {
        "id": "Nmq3WF-Cfw6v"
      }
    },
    {
      "cell_type": "code",
      "source": [
        "#Rescaling the meter reading column for each building and meter type to prevent outliers from skewing the reults.\n",
        "#Following code snippet is a modified version of code by Szymon Maszke: \n",
        "#https://stackoverflow.com/questions/55601928/apply-multiple-standardscalers-to-individual-groups\n",
        "from sklearn.base import clone\n",
        "class GroupTargetTransform:\n",
        "    def __init__(self, transformation):\n",
        "        self.transformation = transformation\n",
        "        self._group_transforms = {} #this library will hold the group transforms\n",
        "\n",
        "    def _call_with_function(self, X, y, function: str):\n",
        "        yhat = pd.Series(dtype = 'float32')#this will hold the rescaled target data\n",
        "        X['target'] = pd.Series(y, index=X.index)\n",
        "        for gr in X.groupby(self.features):\n",
        "            n = gr[0] #this is a tuple id for the group\n",
        "            g_X = gr[1] #this is the group dataframe\n",
        "            g_yhat = getattr(self._group_transforms[n], function)(g_X['target'].values.reshape(-1,1))#scaling the target variable\n",
        "            g_yhat = pd.Series(g_yhat.flatten(), index = g_X.index)\n",
        "            yhat = yhat.append(g_yhat)\n",
        "        X.drop('target', axis=1, inplace = True)\n",
        "        return yhat.sort_index()\n",
        "    \n",
        "    def fit(self, X, y, features):\n",
        "        self.features = features\n",
        "        X['target'] = pd.Series(y, index=X.index) \n",
        "        for gr in X.groupby(self.features):\n",
        "            n = gr[0] #this is a tuple id for the group\n",
        "            g_X = gr[1] #this is the group dataframe\n",
        "            sc = clone(self.transformation) #creating a new instance of the transform\n",
        "            self._group_transforms[n] = sc.fit(g_X['target'].values.reshape(-1,1))\n",
        "        X.drop('target', axis=1, inplace=True)\n",
        "        return self\n",
        "\n",
        "    def transform(self, X, y):\n",
        "        return self._call_with_function(X, y, \"transform\")\n",
        "\n",
        "    def fit_transform(self, X, y, features):\n",
        "        self.fit(X, y, features)\n",
        "        return self.transform(X, y)\n",
        "\n",
        "    def inverse_transform(self, X, y):\n",
        "        return self._call_with_function(X, y, \"inverse_transform\")"
      ],
      "metadata": {
        "id": "Fp38hCxAOaS0"
      },
      "execution_count": 28,
      "outputs": []
    },
    {
      "cell_type": "code",
      "source": [
        "train_merged.meter_reading.mean()"
      ],
      "metadata": {
        "colab": {
          "base_uri": "https://localhost:8080/"
        },
        "id": "5iZsjgxgOizQ",
        "outputId": "752ed04a-a289-4746-e847-e439cee4fec2"
      },
      "execution_count": 29,
      "outputs": [
        {
          "output_type": "execute_result",
          "data": {
            "text/plain": [
              "2290.095"
            ]
          },
          "metadata": {},
          "execution_count": 29
        }
      ]
    },
    {
      "cell_type": "code",
      "source": [
        "#rescale the target variable for each building and meter type.\n",
        "from sklearn.preprocessing import MinMaxScaler\n",
        "\n",
        "scaler = GroupTargetTransform(MinMaxScaler(feature_range = (0,2100))) #2300 is roughly the average meter reading for all the sampled train data but we approximate it to 2100 to consider effect of the rest of the unsampled data. \n",
        "train_merged['meter_reading_rescaled'] = scaler.fit_transform(train_merged, train_merged['meter_reading'], ['building_id', 'meter'])\n",
        "#converting to log(y+1) so the RMSE evaluation metric is actually giving the RMSLE (the evaluation metric for the competition)\n",
        "train_merged['meter_reading_rescaled'] = np.log1p(train_merged['meter_reading_rescaled']) "
      ],
      "metadata": {
        "id": "XB_XffyqOfp_"
      },
      "execution_count": 30,
      "outputs": []
    },
    {
      "cell_type": "code",
      "source": [
        "train_merged.head()"
      ],
      "metadata": {
        "colab": {
          "base_uri": "https://localhost:8080/",
          "height": 0
        },
        "id": "io28RDYGO_9C",
        "outputId": "b41f1f87-6f1f-4cbb-dc16-fe565d303804"
      },
      "execution_count": 31,
      "outputs": [
        {
          "output_type": "execute_result",
          "data": {
            "text/plain": [
              "       building_id  meter           timestamp  meter_reading  site_id  \\\n",
              "4232             0      0 2016-01-08 16:00:00            0.0        0   \n",
              "9437             0      0 2016-01-18 04:00:00            0.0        0   \n",
              "11516            0      0 2016-01-22 01:00:00            0.0        0   \n",
              "18536            0      0 2016-02-03 19:00:00            0.0        0   \n",
              "18743            0      0 2016-02-04 04:00:00            0.0        0   \n",
              "\n",
              "      primary_use  square_feet  year_built  floor_count  air_temperature  \\\n",
              "4232    Education         7432      2008.0          1.0        20.593750   \n",
              "9437    Education         7432      2008.0          1.0         8.898438   \n",
              "11516   Education         7432      2008.0          1.0        15.601562   \n",
              "18536   Education         7432      2008.0          1.0        25.593750   \n",
              "18743   Education         7432      2008.0          1.0        20.593750   \n",
              "\n",
              "       cloud_coverage  dew_temperature  precip_depth_1_hr  sea_level_pressure  \\\n",
              "4232              8.0        17.796875                0.0              1012.0   \n",
              "9437              0.0         3.900391                0.0              1019.0   \n",
              "11516             4.0         9.398438                0.0              1017.5   \n",
              "18536             6.0        18.906250                0.0              1017.0   \n",
              "18743             6.0        18.906250                0.0              1017.5   \n",
              "\n",
              "       wind_direction  wind_speed       time_diff  meter_reading_rescaled  \n",
              "4232              0.0    0.000000 0 days 04:00:00                     0.0  \n",
              "9437            330.0    3.599609 0 days 04:00:00                     0.0  \n",
              "11516           140.0    4.601562 0 days 04:00:00                     0.0  \n",
              "18536           160.0    3.599609 0 days 04:00:00                     0.0  \n",
              "18743           160.0    3.599609 0 days 04:00:00                     0.0  "
            ],
            "text/html": [
              "\n",
              "  <div id=\"df-0cf6923f-abe2-4ecf-a089-a526b1d2797c\">\n",
              "    <div class=\"colab-df-container\">\n",
              "      <div>\n",
              "<style scoped>\n",
              "    .dataframe tbody tr th:only-of-type {\n",
              "        vertical-align: middle;\n",
              "    }\n",
              "\n",
              "    .dataframe tbody tr th {\n",
              "        vertical-align: top;\n",
              "    }\n",
              "\n",
              "    .dataframe thead th {\n",
              "        text-align: right;\n",
              "    }\n",
              "</style>\n",
              "<table border=\"1\" class=\"dataframe\">\n",
              "  <thead>\n",
              "    <tr style=\"text-align: right;\">\n",
              "      <th></th>\n",
              "      <th>building_id</th>\n",
              "      <th>meter</th>\n",
              "      <th>timestamp</th>\n",
              "      <th>meter_reading</th>\n",
              "      <th>site_id</th>\n",
              "      <th>primary_use</th>\n",
              "      <th>square_feet</th>\n",
              "      <th>year_built</th>\n",
              "      <th>floor_count</th>\n",
              "      <th>air_temperature</th>\n",
              "      <th>cloud_coverage</th>\n",
              "      <th>dew_temperature</th>\n",
              "      <th>precip_depth_1_hr</th>\n",
              "      <th>sea_level_pressure</th>\n",
              "      <th>wind_direction</th>\n",
              "      <th>wind_speed</th>\n",
              "      <th>time_diff</th>\n",
              "      <th>meter_reading_rescaled</th>\n",
              "    </tr>\n",
              "  </thead>\n",
              "  <tbody>\n",
              "    <tr>\n",
              "      <th>4232</th>\n",
              "      <td>0</td>\n",
              "      <td>0</td>\n",
              "      <td>2016-01-08 16:00:00</td>\n",
              "      <td>0.0</td>\n",
              "      <td>0</td>\n",
              "      <td>Education</td>\n",
              "      <td>7432</td>\n",
              "      <td>2008.0</td>\n",
              "      <td>1.0</td>\n",
              "      <td>20.593750</td>\n",
              "      <td>8.0</td>\n",
              "      <td>17.796875</td>\n",
              "      <td>0.0</td>\n",
              "      <td>1012.0</td>\n",
              "      <td>0.0</td>\n",
              "      <td>0.000000</td>\n",
              "      <td>0 days 04:00:00</td>\n",
              "      <td>0.0</td>\n",
              "    </tr>\n",
              "    <tr>\n",
              "      <th>9437</th>\n",
              "      <td>0</td>\n",
              "      <td>0</td>\n",
              "      <td>2016-01-18 04:00:00</td>\n",
              "      <td>0.0</td>\n",
              "      <td>0</td>\n",
              "      <td>Education</td>\n",
              "      <td>7432</td>\n",
              "      <td>2008.0</td>\n",
              "      <td>1.0</td>\n",
              "      <td>8.898438</td>\n",
              "      <td>0.0</td>\n",
              "      <td>3.900391</td>\n",
              "      <td>0.0</td>\n",
              "      <td>1019.0</td>\n",
              "      <td>330.0</td>\n",
              "      <td>3.599609</td>\n",
              "      <td>0 days 04:00:00</td>\n",
              "      <td>0.0</td>\n",
              "    </tr>\n",
              "    <tr>\n",
              "      <th>11516</th>\n",
              "      <td>0</td>\n",
              "      <td>0</td>\n",
              "      <td>2016-01-22 01:00:00</td>\n",
              "      <td>0.0</td>\n",
              "      <td>0</td>\n",
              "      <td>Education</td>\n",
              "      <td>7432</td>\n",
              "      <td>2008.0</td>\n",
              "      <td>1.0</td>\n",
              "      <td>15.601562</td>\n",
              "      <td>4.0</td>\n",
              "      <td>9.398438</td>\n",
              "      <td>0.0</td>\n",
              "      <td>1017.5</td>\n",
              "      <td>140.0</td>\n",
              "      <td>4.601562</td>\n",
              "      <td>0 days 04:00:00</td>\n",
              "      <td>0.0</td>\n",
              "    </tr>\n",
              "    <tr>\n",
              "      <th>18536</th>\n",
              "      <td>0</td>\n",
              "      <td>0</td>\n",
              "      <td>2016-02-03 19:00:00</td>\n",
              "      <td>0.0</td>\n",
              "      <td>0</td>\n",
              "      <td>Education</td>\n",
              "      <td>7432</td>\n",
              "      <td>2008.0</td>\n",
              "      <td>1.0</td>\n",
              "      <td>25.593750</td>\n",
              "      <td>6.0</td>\n",
              "      <td>18.906250</td>\n",
              "      <td>0.0</td>\n",
              "      <td>1017.0</td>\n",
              "      <td>160.0</td>\n",
              "      <td>3.599609</td>\n",
              "      <td>0 days 04:00:00</td>\n",
              "      <td>0.0</td>\n",
              "    </tr>\n",
              "    <tr>\n",
              "      <th>18743</th>\n",
              "      <td>0</td>\n",
              "      <td>0</td>\n",
              "      <td>2016-02-04 04:00:00</td>\n",
              "      <td>0.0</td>\n",
              "      <td>0</td>\n",
              "      <td>Education</td>\n",
              "      <td>7432</td>\n",
              "      <td>2008.0</td>\n",
              "      <td>1.0</td>\n",
              "      <td>20.593750</td>\n",
              "      <td>6.0</td>\n",
              "      <td>18.906250</td>\n",
              "      <td>0.0</td>\n",
              "      <td>1017.5</td>\n",
              "      <td>160.0</td>\n",
              "      <td>3.599609</td>\n",
              "      <td>0 days 04:00:00</td>\n",
              "      <td>0.0</td>\n",
              "    </tr>\n",
              "  </tbody>\n",
              "</table>\n",
              "</div>\n",
              "      <button class=\"colab-df-convert\" onclick=\"convertToInteractive('df-0cf6923f-abe2-4ecf-a089-a526b1d2797c')\"\n",
              "              title=\"Convert this dataframe to an interactive table.\"\n",
              "              style=\"display:none;\">\n",
              "        \n",
              "  <svg xmlns=\"http://www.w3.org/2000/svg\" height=\"24px\"viewBox=\"0 0 24 24\"\n",
              "       width=\"24px\">\n",
              "    <path d=\"M0 0h24v24H0V0z\" fill=\"none\"/>\n",
              "    <path d=\"M18.56 5.44l.94 2.06.94-2.06 2.06-.94-2.06-.94-.94-2.06-.94 2.06-2.06.94zm-11 1L8.5 8.5l.94-2.06 2.06-.94-2.06-.94L8.5 2.5l-.94 2.06-2.06.94zm10 10l.94 2.06.94-2.06 2.06-.94-2.06-.94-.94-2.06-.94 2.06-2.06.94z\"/><path d=\"M17.41 7.96l-1.37-1.37c-.4-.4-.92-.59-1.43-.59-.52 0-1.04.2-1.43.59L10.3 9.45l-7.72 7.72c-.78.78-.78 2.05 0 2.83L4 21.41c.39.39.9.59 1.41.59.51 0 1.02-.2 1.41-.59l7.78-7.78 2.81-2.81c.8-.78.8-2.07 0-2.86zM5.41 20L4 18.59l7.72-7.72 1.47 1.35L5.41 20z\"/>\n",
              "  </svg>\n",
              "      </button>\n",
              "      \n",
              "  <style>\n",
              "    .colab-df-container {\n",
              "      display:flex;\n",
              "      flex-wrap:wrap;\n",
              "      gap: 12px;\n",
              "    }\n",
              "\n",
              "    .colab-df-convert {\n",
              "      background-color: #E8F0FE;\n",
              "      border: none;\n",
              "      border-radius: 50%;\n",
              "      cursor: pointer;\n",
              "      display: none;\n",
              "      fill: #1967D2;\n",
              "      height: 32px;\n",
              "      padding: 0 0 0 0;\n",
              "      width: 32px;\n",
              "    }\n",
              "\n",
              "    .colab-df-convert:hover {\n",
              "      background-color: #E2EBFA;\n",
              "      box-shadow: 0px 1px 2px rgba(60, 64, 67, 0.3), 0px 1px 3px 1px rgba(60, 64, 67, 0.15);\n",
              "      fill: #174EA6;\n",
              "    }\n",
              "\n",
              "    [theme=dark] .colab-df-convert {\n",
              "      background-color: #3B4455;\n",
              "      fill: #D2E3FC;\n",
              "    }\n",
              "\n",
              "    [theme=dark] .colab-df-convert:hover {\n",
              "      background-color: #434B5C;\n",
              "      box-shadow: 0px 1px 3px 1px rgba(0, 0, 0, 0.15);\n",
              "      filter: drop-shadow(0px 1px 2px rgba(0, 0, 0, 0.3));\n",
              "      fill: #FFFFFF;\n",
              "    }\n",
              "  </style>\n",
              "\n",
              "      <script>\n",
              "        const buttonEl =\n",
              "          document.querySelector('#df-0cf6923f-abe2-4ecf-a089-a526b1d2797c button.colab-df-convert');\n",
              "        buttonEl.style.display =\n",
              "          google.colab.kernel.accessAllowed ? 'block' : 'none';\n",
              "\n",
              "        async function convertToInteractive(key) {\n",
              "          const element = document.querySelector('#df-0cf6923f-abe2-4ecf-a089-a526b1d2797c');\n",
              "          const dataTable =\n",
              "            await google.colab.kernel.invokeFunction('convertToInteractive',\n",
              "                                                     [key], {});\n",
              "          if (!dataTable) return;\n",
              "\n",
              "          const docLinkHtml = 'Like what you see? Visit the ' +\n",
              "            '<a target=\"_blank\" href=https://colab.research.google.com/notebooks/data_table.ipynb>data table notebook</a>'\n",
              "            + ' to learn more about interactive tables.';\n",
              "          element.innerHTML = '';\n",
              "          dataTable['output_type'] = 'display_data';\n",
              "          await google.colab.output.renderOutput(dataTable, element);\n",
              "          const docLink = document.createElement('div');\n",
              "          docLink.innerHTML = docLinkHtml;\n",
              "          element.appendChild(docLink);\n",
              "        }\n",
              "      </script>\n",
              "    </div>\n",
              "  </div>\n",
              "  "
            ]
          },
          "metadata": {},
          "execution_count": 31
        }
      ]
    },
    {
      "cell_type": "code",
      "source": [
        "train_merged.drop(['time_diff'],axis=1,inplace=True)"
      ],
      "metadata": {
        "id": "Bq1qRF2GO4cD"
      },
      "execution_count": 32,
      "outputs": []
    },
    {
      "cell_type": "markdown",
      "source": [
        "##4. Feature Engineering"
      ],
      "metadata": {
        "id": "y-UQcGATKYEX"
      }
    },
    {
      "cell_type": "markdown",
      "source": [
        "####Adding time based features"
      ],
      "metadata": {
        "id": "b-XWPPNJU8a7"
      }
    },
    {
      "cell_type": "code",
      "source": [
        "import holidays\n",
        "holidays_list = []\n",
        "for item in holidays.USA(years=2016).items():\n",
        "  holidays_list.append(item[0])\n",
        "holidays_list"
      ],
      "metadata": {
        "id": "U5IQ5pYsM-gV",
        "colab": {
          "base_uri": "https://localhost:8080/"
        },
        "outputId": "b3b0e482-a2cb-4354-ec1c-a63ca117b531"
      },
      "execution_count": 33,
      "outputs": [
        {
          "output_type": "execute_result",
          "data": {
            "text/plain": [
              "[datetime.date(2016, 1, 1),\n",
              " datetime.date(2016, 1, 18),\n",
              " datetime.date(2016, 2, 15),\n",
              " datetime.date(2016, 5, 30),\n",
              " datetime.date(2016, 7, 4),\n",
              " datetime.date(2016, 9, 5),\n",
              " datetime.date(2016, 10, 10),\n",
              " datetime.date(2016, 11, 11),\n",
              " datetime.date(2016, 11, 24),\n",
              " datetime.date(2016, 12, 25),\n",
              " datetime.date(2016, 12, 26)]"
            ]
          },
          "metadata": {},
          "execution_count": 33
        }
      ]
    },
    {
      "cell_type": "code",
      "source": [
        "train_merged['is_weekend'] = train_merged['timestamp'].dt.weekday.isin([5,6]).astype(int)\n",
        "train_merged['is_holiday'] = train_merged['timestamp'].dt.date.isin(holidays_list)\n",
        "train_merged['age'] = 2016 - train_merged['year_built'] "
      ],
      "metadata": {
        "id": "B7FKWlH8Mog0"
      },
      "execution_count": 34,
      "outputs": []
    },
    {
      "cell_type": "code",
      "source": [
        "train_merged.head()"
      ],
      "metadata": {
        "colab": {
          "base_uri": "https://localhost:8080/",
          "height": 0
        },
        "id": "lED_g9P4Ld7q",
        "outputId": "e4babe68-05b9-41ce-fafa-2e17330f7634"
      },
      "execution_count": 35,
      "outputs": [
        {
          "output_type": "execute_result",
          "data": {
            "text/plain": [
              "       building_id  meter           timestamp  meter_reading  site_id  \\\n",
              "4232             0      0 2016-01-08 16:00:00            0.0        0   \n",
              "9437             0      0 2016-01-18 04:00:00            0.0        0   \n",
              "11516            0      0 2016-01-22 01:00:00            0.0        0   \n",
              "18536            0      0 2016-02-03 19:00:00            0.0        0   \n",
              "18743            0      0 2016-02-04 04:00:00            0.0        0   \n",
              "\n",
              "      primary_use  square_feet  year_built  floor_count  air_temperature  \\\n",
              "4232    Education         7432      2008.0          1.0        20.593750   \n",
              "9437    Education         7432      2008.0          1.0         8.898438   \n",
              "11516   Education         7432      2008.0          1.0        15.601562   \n",
              "18536   Education         7432      2008.0          1.0        25.593750   \n",
              "18743   Education         7432      2008.0          1.0        20.593750   \n",
              "\n",
              "       cloud_coverage  dew_temperature  precip_depth_1_hr  sea_level_pressure  \\\n",
              "4232              8.0        17.796875                0.0              1012.0   \n",
              "9437              0.0         3.900391                0.0              1019.0   \n",
              "11516             4.0         9.398438                0.0              1017.5   \n",
              "18536             6.0        18.906250                0.0              1017.0   \n",
              "18743             6.0        18.906250                0.0              1017.5   \n",
              "\n",
              "       wind_direction  wind_speed  meter_reading_rescaled  is_weekend  \\\n",
              "4232              0.0    0.000000                     0.0           0   \n",
              "9437            330.0    3.599609                     0.0           0   \n",
              "11516           140.0    4.601562                     0.0           0   \n",
              "18536           160.0    3.599609                     0.0           0   \n",
              "18743           160.0    3.599609                     0.0           0   \n",
              "\n",
              "       is_holiday  age  \n",
              "4232        False  8.0  \n",
              "9437         True  8.0  \n",
              "11516       False  8.0  \n",
              "18536       False  8.0  \n",
              "18743       False  8.0  "
            ],
            "text/html": [
              "\n",
              "  <div id=\"df-40674ddf-e0ad-4e5d-a0bb-1b5272947f6c\">\n",
              "    <div class=\"colab-df-container\">\n",
              "      <div>\n",
              "<style scoped>\n",
              "    .dataframe tbody tr th:only-of-type {\n",
              "        vertical-align: middle;\n",
              "    }\n",
              "\n",
              "    .dataframe tbody tr th {\n",
              "        vertical-align: top;\n",
              "    }\n",
              "\n",
              "    .dataframe thead th {\n",
              "        text-align: right;\n",
              "    }\n",
              "</style>\n",
              "<table border=\"1\" class=\"dataframe\">\n",
              "  <thead>\n",
              "    <tr style=\"text-align: right;\">\n",
              "      <th></th>\n",
              "      <th>building_id</th>\n",
              "      <th>meter</th>\n",
              "      <th>timestamp</th>\n",
              "      <th>meter_reading</th>\n",
              "      <th>site_id</th>\n",
              "      <th>primary_use</th>\n",
              "      <th>square_feet</th>\n",
              "      <th>year_built</th>\n",
              "      <th>floor_count</th>\n",
              "      <th>air_temperature</th>\n",
              "      <th>cloud_coverage</th>\n",
              "      <th>dew_temperature</th>\n",
              "      <th>precip_depth_1_hr</th>\n",
              "      <th>sea_level_pressure</th>\n",
              "      <th>wind_direction</th>\n",
              "      <th>wind_speed</th>\n",
              "      <th>meter_reading_rescaled</th>\n",
              "      <th>is_weekend</th>\n",
              "      <th>is_holiday</th>\n",
              "      <th>age</th>\n",
              "    </tr>\n",
              "  </thead>\n",
              "  <tbody>\n",
              "    <tr>\n",
              "      <th>4232</th>\n",
              "      <td>0</td>\n",
              "      <td>0</td>\n",
              "      <td>2016-01-08 16:00:00</td>\n",
              "      <td>0.0</td>\n",
              "      <td>0</td>\n",
              "      <td>Education</td>\n",
              "      <td>7432</td>\n",
              "      <td>2008.0</td>\n",
              "      <td>1.0</td>\n",
              "      <td>20.593750</td>\n",
              "      <td>8.0</td>\n",
              "      <td>17.796875</td>\n",
              "      <td>0.0</td>\n",
              "      <td>1012.0</td>\n",
              "      <td>0.0</td>\n",
              "      <td>0.000000</td>\n",
              "      <td>0.0</td>\n",
              "      <td>0</td>\n",
              "      <td>False</td>\n",
              "      <td>8.0</td>\n",
              "    </tr>\n",
              "    <tr>\n",
              "      <th>9437</th>\n",
              "      <td>0</td>\n",
              "      <td>0</td>\n",
              "      <td>2016-01-18 04:00:00</td>\n",
              "      <td>0.0</td>\n",
              "      <td>0</td>\n",
              "      <td>Education</td>\n",
              "      <td>7432</td>\n",
              "      <td>2008.0</td>\n",
              "      <td>1.0</td>\n",
              "      <td>8.898438</td>\n",
              "      <td>0.0</td>\n",
              "      <td>3.900391</td>\n",
              "      <td>0.0</td>\n",
              "      <td>1019.0</td>\n",
              "      <td>330.0</td>\n",
              "      <td>3.599609</td>\n",
              "      <td>0.0</td>\n",
              "      <td>0</td>\n",
              "      <td>True</td>\n",
              "      <td>8.0</td>\n",
              "    </tr>\n",
              "    <tr>\n",
              "      <th>11516</th>\n",
              "      <td>0</td>\n",
              "      <td>0</td>\n",
              "      <td>2016-01-22 01:00:00</td>\n",
              "      <td>0.0</td>\n",
              "      <td>0</td>\n",
              "      <td>Education</td>\n",
              "      <td>7432</td>\n",
              "      <td>2008.0</td>\n",
              "      <td>1.0</td>\n",
              "      <td>15.601562</td>\n",
              "      <td>4.0</td>\n",
              "      <td>9.398438</td>\n",
              "      <td>0.0</td>\n",
              "      <td>1017.5</td>\n",
              "      <td>140.0</td>\n",
              "      <td>4.601562</td>\n",
              "      <td>0.0</td>\n",
              "      <td>0</td>\n",
              "      <td>False</td>\n",
              "      <td>8.0</td>\n",
              "    </tr>\n",
              "    <tr>\n",
              "      <th>18536</th>\n",
              "      <td>0</td>\n",
              "      <td>0</td>\n",
              "      <td>2016-02-03 19:00:00</td>\n",
              "      <td>0.0</td>\n",
              "      <td>0</td>\n",
              "      <td>Education</td>\n",
              "      <td>7432</td>\n",
              "      <td>2008.0</td>\n",
              "      <td>1.0</td>\n",
              "      <td>25.593750</td>\n",
              "      <td>6.0</td>\n",
              "      <td>18.906250</td>\n",
              "      <td>0.0</td>\n",
              "      <td>1017.0</td>\n",
              "      <td>160.0</td>\n",
              "      <td>3.599609</td>\n",
              "      <td>0.0</td>\n",
              "      <td>0</td>\n",
              "      <td>False</td>\n",
              "      <td>8.0</td>\n",
              "    </tr>\n",
              "    <tr>\n",
              "      <th>18743</th>\n",
              "      <td>0</td>\n",
              "      <td>0</td>\n",
              "      <td>2016-02-04 04:00:00</td>\n",
              "      <td>0.0</td>\n",
              "      <td>0</td>\n",
              "      <td>Education</td>\n",
              "      <td>7432</td>\n",
              "      <td>2008.0</td>\n",
              "      <td>1.0</td>\n",
              "      <td>20.593750</td>\n",
              "      <td>6.0</td>\n",
              "      <td>18.906250</td>\n",
              "      <td>0.0</td>\n",
              "      <td>1017.5</td>\n",
              "      <td>160.0</td>\n",
              "      <td>3.599609</td>\n",
              "      <td>0.0</td>\n",
              "      <td>0</td>\n",
              "      <td>False</td>\n",
              "      <td>8.0</td>\n",
              "    </tr>\n",
              "  </tbody>\n",
              "</table>\n",
              "</div>\n",
              "      <button class=\"colab-df-convert\" onclick=\"convertToInteractive('df-40674ddf-e0ad-4e5d-a0bb-1b5272947f6c')\"\n",
              "              title=\"Convert this dataframe to an interactive table.\"\n",
              "              style=\"display:none;\">\n",
              "        \n",
              "  <svg xmlns=\"http://www.w3.org/2000/svg\" height=\"24px\"viewBox=\"0 0 24 24\"\n",
              "       width=\"24px\">\n",
              "    <path d=\"M0 0h24v24H0V0z\" fill=\"none\"/>\n",
              "    <path d=\"M18.56 5.44l.94 2.06.94-2.06 2.06-.94-2.06-.94-.94-2.06-.94 2.06-2.06.94zm-11 1L8.5 8.5l.94-2.06 2.06-.94-2.06-.94L8.5 2.5l-.94 2.06-2.06.94zm10 10l.94 2.06.94-2.06 2.06-.94-2.06-.94-.94-2.06-.94 2.06-2.06.94z\"/><path d=\"M17.41 7.96l-1.37-1.37c-.4-.4-.92-.59-1.43-.59-.52 0-1.04.2-1.43.59L10.3 9.45l-7.72 7.72c-.78.78-.78 2.05 0 2.83L4 21.41c.39.39.9.59 1.41.59.51 0 1.02-.2 1.41-.59l7.78-7.78 2.81-2.81c.8-.78.8-2.07 0-2.86zM5.41 20L4 18.59l7.72-7.72 1.47 1.35L5.41 20z\"/>\n",
              "  </svg>\n",
              "      </button>\n",
              "      \n",
              "  <style>\n",
              "    .colab-df-container {\n",
              "      display:flex;\n",
              "      flex-wrap:wrap;\n",
              "      gap: 12px;\n",
              "    }\n",
              "\n",
              "    .colab-df-convert {\n",
              "      background-color: #E8F0FE;\n",
              "      border: none;\n",
              "      border-radius: 50%;\n",
              "      cursor: pointer;\n",
              "      display: none;\n",
              "      fill: #1967D2;\n",
              "      height: 32px;\n",
              "      padding: 0 0 0 0;\n",
              "      width: 32px;\n",
              "    }\n",
              "\n",
              "    .colab-df-convert:hover {\n",
              "      background-color: #E2EBFA;\n",
              "      box-shadow: 0px 1px 2px rgba(60, 64, 67, 0.3), 0px 1px 3px 1px rgba(60, 64, 67, 0.15);\n",
              "      fill: #174EA6;\n",
              "    }\n",
              "\n",
              "    [theme=dark] .colab-df-convert {\n",
              "      background-color: #3B4455;\n",
              "      fill: #D2E3FC;\n",
              "    }\n",
              "\n",
              "    [theme=dark] .colab-df-convert:hover {\n",
              "      background-color: #434B5C;\n",
              "      box-shadow: 0px 1px 3px 1px rgba(0, 0, 0, 0.15);\n",
              "      filter: drop-shadow(0px 1px 2px rgba(0, 0, 0, 0.3));\n",
              "      fill: #FFFFFF;\n",
              "    }\n",
              "  </style>\n",
              "\n",
              "      <script>\n",
              "        const buttonEl =\n",
              "          document.querySelector('#df-40674ddf-e0ad-4e5d-a0bb-1b5272947f6c button.colab-df-convert');\n",
              "        buttonEl.style.display =\n",
              "          google.colab.kernel.accessAllowed ? 'block' : 'none';\n",
              "\n",
              "        async function convertToInteractive(key) {\n",
              "          const element = document.querySelector('#df-40674ddf-e0ad-4e5d-a0bb-1b5272947f6c');\n",
              "          const dataTable =\n",
              "            await google.colab.kernel.invokeFunction('convertToInteractive',\n",
              "                                                     [key], {});\n",
              "          if (!dataTable) return;\n",
              "\n",
              "          const docLinkHtml = 'Like what you see? Visit the ' +\n",
              "            '<a target=\"_blank\" href=https://colab.research.google.com/notebooks/data_table.ipynb>data table notebook</a>'\n",
              "            + ' to learn more about interactive tables.';\n",
              "          element.innerHTML = '';\n",
              "          dataTable['output_type'] = 'display_data';\n",
              "          await google.colab.output.renderOutput(dataTable, element);\n",
              "          const docLink = document.createElement('div');\n",
              "          docLink.innerHTML = docLinkHtml;\n",
              "          element.appendChild(docLink);\n",
              "        }\n",
              "      </script>\n",
              "    </div>\n",
              "  </div>\n",
              "  "
            ]
          },
          "metadata": {},
          "execution_count": 35
        }
      ]
    },
    {
      "cell_type": "markdown",
      "source": [
        "####One hot encoding categorical columns"
      ],
      "metadata": {
        "id": "D8hvhQrzU2O7"
      }
    },
    {
      "cell_type": "code",
      "source": [
        "train_merged.primary_use.value_counts()"
      ],
      "metadata": {
        "colab": {
          "base_uri": "https://localhost:8080/"
        },
        "id": "pcVpS7NRrr-i",
        "outputId": "572557eb-50de-48c8-dca2-e4f07e80be30"
      },
      "execution_count": 36,
      "outputs": [
        {
          "output_type": "execute_result",
          "data": {
            "text/plain": [
              "Education                        80766\n",
              "Office                           43971\n",
              "Entertainment/public assembly    22419\n",
              "Lodging/residential              21456\n",
              "Public services                  16470\n",
              "Healthcare                        3975\n",
              "Other                             2389\n",
              "Parking                           2125\n",
              "Manufacturing/industrial          1209\n",
              "Food sales and service            1156\n",
              "Warehouse/storage                 1103\n",
              "Retail                            1094\n",
              "Services                          1032\n",
              "Technology/science                 788\n",
              "Utility                            542\n",
              "Religious worship                  302\n",
              "Name: primary_use, dtype: int64"
            ]
          },
          "metadata": {},
          "execution_count": 36
        }
      ]
    },
    {
      "cell_type": "code",
      "source": [
        "categories = train_merged.primary_use.unique()"
      ],
      "metadata": {
        "id": "fnKtlZoCjFBn"
      },
      "execution_count": 37,
      "outputs": []
    },
    {
      "cell_type": "code",
      "source": [
        "for category in categories:\n",
        "  train_merged['primary_use_is_'+category] = train_merged.primary_use==category"
      ],
      "metadata": {
        "id": "5SGTEnZJqjht"
      },
      "execution_count": 38,
      "outputs": []
    },
    {
      "cell_type": "code",
      "source": [
        "train_merged = train_merged.drop(['primary_use'], axis=1)"
      ],
      "metadata": {
        "id": "mOdmEbyorZQH"
      },
      "execution_count": 39,
      "outputs": []
    },
    {
      "cell_type": "markdown",
      "source": [
        "##5. Training & Evaluating different Models"
      ],
      "metadata": {
        "id": "HWjaTIIqSF-1"
      }
    },
    {
      "cell_type": "markdown",
      "source": [
        "####Splitting the dataset"
      ],
      "metadata": {
        "id": "Z7rNqhRXIpLC"
      }
    },
    {
      "cell_type": "code",
      "source": [
        "from sklearn.model_selection import train_test_split\n",
        "\n",
        "X = train_merged.dropna(subset=['meter_reading']) #droping all rows where the meter reading is not included\n",
        "X = X.sort_values(by=['timestamp'], axis=0) #ensuring X is sorted by timestamp as we want validation set based on time\n",
        "\n",
        "builds = X['building_id'].unique() #array of building ids in the dataset\n",
        "build_train, build_val = train_test_split(builds, test_size = 0.1, random_state=0) #holding out 10% of the buildings for validation\n",
        "\n",
        "train = X.loc[(X['timestamp']<'2016-10-15') \n",
        "          & (X['building_id'].isin(build_train))] #we will train on only the first 80% of the year and 90% buildings\n",
        "val_time = X.loc[(X['timestamp']>='2016-10-15') & (X['building_id'].isin(build_train))] #rest of the year and same buildings as above\n",
        "val_buildings = X.loc[(X['building_id'].isin(build_val))] #full year and the rest of the buildings"
      ],
      "metadata": {
        "id": "jB7AJOBvIofl"
      },
      "execution_count": 40,
      "outputs": []
    },
    {
      "cell_type": "markdown",
      "source": [
        "####Utility Functions for Evaluation"
      ],
      "metadata": {
        "id": "gnV_5wqaJIpM"
      }
    },
    {
      "cell_type": "code",
      "source": [
        "from sklearn.metrics import make_scorer, mean_squared_error, mean_absolute_error, mean_squared_log_error\n",
        "\n",
        "#Clip Function will ensure that negative predictions are approximated to zero\n",
        "def clip(x):\n",
        "    return np.clip(x, a_min=0, a_max=None)\n",
        "#Function to calculate root mean square error\n",
        "def rmse(y, y_pred):\n",
        "    out = np.sqrt(mean_squared_error(clip(y), clip(y_pred)))\n",
        "    return out"
      ],
      "metadata": {
        "id": "xbpCLOTcJMoT"
      },
      "execution_count": 41,
      "outputs": []
    },
    {
      "cell_type": "code",
      "source": [
        "def evaluate(model, X_val_time, y_val_time, X_val_buildings, y_val_buildings):\n",
        "  print('Time predictions...')\n",
        "  preds = clip(model.predict(X_val_time)) #making time based predictions\n",
        "  preds_inv = scaler.inverse_transform(X_val_time, np.expm1(preds)) #converting the predicted meter readings to original scale after inverting the log transform\n",
        "  y_val_time = y_val_time.sort_index()\n",
        "  score = mean_absolute_error(preds_inv, y_val_time)\n",
        "  print('Mean absolute error - time prediction:', score)\n",
        "  RMSLE = np.sqrt(mean_squared_log_error(preds_inv, y_val_time))\n",
        "  print('RMSLE - time prediction:', RMSLE)\n",
        "\n",
        "  print('Building predictions...')\n",
        "  preds = clip(model.predict(X_val_buildings))\n",
        "  preds_inv = scaler.inverse_transform(X_val_buildings, np.expm1(preds))\n",
        "  y_val_buildings = y_val_buildings.sort_index()\n",
        "  score = mean_absolute_error(preds_inv, y_val_buildings)\n",
        "  print('Mean absolute error - new buildings:', score)\n",
        "  RMSLE = np.sqrt(mean_squared_log_error(preds_inv, y_val_buildings))\n",
        "  print('RMSLE - new buildings:', RMSLE)"
      ],
      "metadata": {
        "id": "i_xsJFXBJqDE"
      },
      "execution_count": 42,
      "outputs": []
    },
    {
      "cell_type": "markdown",
      "source": [
        "####Preparing the inputs for the models"
      ],
      "metadata": {
        "id": "Jxlz9SqTSmrb"
      }
    },
    {
      "cell_type": "code",
      "source": [
        "y_train, y_val_time, y_val_buildings = train['meter_reading_rescaled'], val_time['meter_reading'], val_buildings['meter_reading'] #extracting the meter reading as our target variable\n",
        "X_train, X_val_time, X_val_buildings = train.drop(['meter_reading', 'meter_reading_rescaled', 'timestamp','age'], axis=1), val_time.drop(['meter_reading', 'meter_reading_rescaled','timestamp','age'], axis=1), val_buildings.drop(['meter_reading','meter_reading_rescaled','timestamp','age'], axis=1)"
      ],
      "metadata": {
        "id": "EaWdfztdSwEr"
      },
      "execution_count": 43,
      "outputs": []
    },
    {
      "cell_type": "code",
      "source": [
        "X_val_time"
      ],
      "metadata": {
        "colab": {
          "base_uri": "https://localhost:8080/",
          "height": 0
        },
        "id": "4RsuLgZWTBY2",
        "outputId": "28c58493-2cc8-4ac3-e169-a78acc772f13"
      },
      "execution_count": 44,
      "outputs": [
        {
          "output_type": "execute_result",
          "data": {
            "text/plain": [
              "        building_id  meter  site_id  square_feet  year_built  floor_count  \\\n",
              "157403         1288      0       14       164206      1967.0          1.0   \n",
              "157392          899      2        9       225014      1967.0          1.0   \n",
              "157399         1211      0       13        94988      1967.0          1.0   \n",
              "157402         1283      2       14        76537      1967.0          1.0   \n",
              "157388          808      0        8         9357      1967.0          1.0   \n",
              "...             ...    ...      ...          ...         ...          ...   \n",
              "200785          418      0        3        86120      1926.0          1.0   \n",
              "200787          559      0        3        48994      2015.0          1.0   \n",
              "200789          780      0        6       120836      1967.0          1.0   \n",
              "200794         1254      2       14        24979      1967.0          1.0   \n",
              "200786          525      0        3         9062      1967.0          1.0   \n",
              "\n",
              "        air_temperature  cloud_coverage  dew_temperature  precip_depth_1_hr  \\\n",
              "157403         6.101562             0.0         4.398438                0.0   \n",
              "157392        24.406250             4.0        20.593750                0.0   \n",
              "157399        17.203125             6.0        12.203125                0.0   \n",
              "157402         6.101562             0.0         4.398438                0.0   \n",
              "157388        23.906250             4.0        20.593750                0.0   \n",
              "...                 ...             ...              ...                ...   \n",
              "200785         5.601562             4.0        -5.000000                0.0   \n",
              "200787         5.601562             6.0         1.700195                0.0   \n",
              "200789         5.601562             4.0        -9.398438                0.0   \n",
              "200794         0.600098             0.0        -5.000000                0.0   \n",
              "200786         3.300781             0.0        -5.601562                0.0   \n",
              "\n",
              "        ...  primary_use_is_Parking  primary_use_is_Public services  \\\n",
              "157403  ...                   False                           False   \n",
              "157392  ...                   False                           False   \n",
              "157399  ...                   False                           False   \n",
              "157402  ...                   False                            True   \n",
              "157388  ...                   False                           False   \n",
              "...     ...                     ...                             ...   \n",
              "200785  ...                   False                           False   \n",
              "200787  ...                   False                           False   \n",
              "200789  ...                   False                           False   \n",
              "200794  ...                   False                           False   \n",
              "200786  ...                   False                            True   \n",
              "\n",
              "        primary_use_is_Warehouse/storage  \\\n",
              "157403                             False   \n",
              "157392                             False   \n",
              "157399                             False   \n",
              "157402                             False   \n",
              "157388                             False   \n",
              "...                                  ...   \n",
              "200785                             False   \n",
              "200787                             False   \n",
              "200789                             False   \n",
              "200794                             False   \n",
              "200786                             False   \n",
              "\n",
              "        primary_use_is_Food sales and service  \\\n",
              "157403                                  False   \n",
              "157392                                  False   \n",
              "157399                                  False   \n",
              "157402                                  False   \n",
              "157388                                  False   \n",
              "...                                       ...   \n",
              "200785                                  False   \n",
              "200787                                  False   \n",
              "200789                                  False   \n",
              "200794                                  False   \n",
              "200786                                  False   \n",
              "\n",
              "        primary_use_is_Religious worship  primary_use_is_Healthcare  \\\n",
              "157403                             False                      False   \n",
              "157392                             False                      False   \n",
              "157399                             False                      False   \n",
              "157402                             False                      False   \n",
              "157388                             False                      False   \n",
              "...                                  ...                        ...   \n",
              "200785                             False                      False   \n",
              "200787                             False                      False   \n",
              "200789                             False                      False   \n",
              "200794                             False                      False   \n",
              "200786                             False                      False   \n",
              "\n",
              "        primary_use_is_Utility  primary_use_is_Technology/science  \\\n",
              "157403                   False                              False   \n",
              "157392                   False                              False   \n",
              "157399                   False                              False   \n",
              "157402                   False                              False   \n",
              "157388                   False                              False   \n",
              "...                        ...                                ...   \n",
              "200785                   False                              False   \n",
              "200787                   False                              False   \n",
              "200789                   False                              False   \n",
              "200794                   False                              False   \n",
              "200786                   False                              False   \n",
              "\n",
              "        primary_use_is_Manufacturing/industrial  primary_use_is_Services  \n",
              "157403                                    False                    False  \n",
              "157392                                    False                    False  \n",
              "157399                                    False                    False  \n",
              "157402                                    False                    False  \n",
              "157388                                    False                    False  \n",
              "...                                         ...                      ...  \n",
              "200785                                    False                    False  \n",
              "200787                                    False                    False  \n",
              "200789                                    False                    False  \n",
              "200794                                    False                    False  \n",
              "200786                                    False                    False  \n",
              "\n",
              "[39034 rows x 31 columns]"
            ],
            "text/html": [
              "\n",
              "  <div id=\"df-900b652d-c19b-4950-b036-da650babf405\">\n",
              "    <div class=\"colab-df-container\">\n",
              "      <div>\n",
              "<style scoped>\n",
              "    .dataframe tbody tr th:only-of-type {\n",
              "        vertical-align: middle;\n",
              "    }\n",
              "\n",
              "    .dataframe tbody tr th {\n",
              "        vertical-align: top;\n",
              "    }\n",
              "\n",
              "    .dataframe thead th {\n",
              "        text-align: right;\n",
              "    }\n",
              "</style>\n",
              "<table border=\"1\" class=\"dataframe\">\n",
              "  <thead>\n",
              "    <tr style=\"text-align: right;\">\n",
              "      <th></th>\n",
              "      <th>building_id</th>\n",
              "      <th>meter</th>\n",
              "      <th>site_id</th>\n",
              "      <th>square_feet</th>\n",
              "      <th>year_built</th>\n",
              "      <th>floor_count</th>\n",
              "      <th>air_temperature</th>\n",
              "      <th>cloud_coverage</th>\n",
              "      <th>dew_temperature</th>\n",
              "      <th>precip_depth_1_hr</th>\n",
              "      <th>...</th>\n",
              "      <th>primary_use_is_Parking</th>\n",
              "      <th>primary_use_is_Public services</th>\n",
              "      <th>primary_use_is_Warehouse/storage</th>\n",
              "      <th>primary_use_is_Food sales and service</th>\n",
              "      <th>primary_use_is_Religious worship</th>\n",
              "      <th>primary_use_is_Healthcare</th>\n",
              "      <th>primary_use_is_Utility</th>\n",
              "      <th>primary_use_is_Technology/science</th>\n",
              "      <th>primary_use_is_Manufacturing/industrial</th>\n",
              "      <th>primary_use_is_Services</th>\n",
              "    </tr>\n",
              "  </thead>\n",
              "  <tbody>\n",
              "    <tr>\n",
              "      <th>157403</th>\n",
              "      <td>1288</td>\n",
              "      <td>0</td>\n",
              "      <td>14</td>\n",
              "      <td>164206</td>\n",
              "      <td>1967.0</td>\n",
              "      <td>1.0</td>\n",
              "      <td>6.101562</td>\n",
              "      <td>0.0</td>\n",
              "      <td>4.398438</td>\n",
              "      <td>0.0</td>\n",
              "      <td>...</td>\n",
              "      <td>False</td>\n",
              "      <td>False</td>\n",
              "      <td>False</td>\n",
              "      <td>False</td>\n",
              "      <td>False</td>\n",
              "      <td>False</td>\n",
              "      <td>False</td>\n",
              "      <td>False</td>\n",
              "      <td>False</td>\n",
              "      <td>False</td>\n",
              "    </tr>\n",
              "    <tr>\n",
              "      <th>157392</th>\n",
              "      <td>899</td>\n",
              "      <td>2</td>\n",
              "      <td>9</td>\n",
              "      <td>225014</td>\n",
              "      <td>1967.0</td>\n",
              "      <td>1.0</td>\n",
              "      <td>24.406250</td>\n",
              "      <td>4.0</td>\n",
              "      <td>20.593750</td>\n",
              "      <td>0.0</td>\n",
              "      <td>...</td>\n",
              "      <td>False</td>\n",
              "      <td>False</td>\n",
              "      <td>False</td>\n",
              "      <td>False</td>\n",
              "      <td>False</td>\n",
              "      <td>False</td>\n",
              "      <td>False</td>\n",
              "      <td>False</td>\n",
              "      <td>False</td>\n",
              "      <td>False</td>\n",
              "    </tr>\n",
              "    <tr>\n",
              "      <th>157399</th>\n",
              "      <td>1211</td>\n",
              "      <td>0</td>\n",
              "      <td>13</td>\n",
              "      <td>94988</td>\n",
              "      <td>1967.0</td>\n",
              "      <td>1.0</td>\n",
              "      <td>17.203125</td>\n",
              "      <td>6.0</td>\n",
              "      <td>12.203125</td>\n",
              "      <td>0.0</td>\n",
              "      <td>...</td>\n",
              "      <td>False</td>\n",
              "      <td>False</td>\n",
              "      <td>False</td>\n",
              "      <td>False</td>\n",
              "      <td>False</td>\n",
              "      <td>False</td>\n",
              "      <td>False</td>\n",
              "      <td>False</td>\n",
              "      <td>False</td>\n",
              "      <td>False</td>\n",
              "    </tr>\n",
              "    <tr>\n",
              "      <th>157402</th>\n",
              "      <td>1283</td>\n",
              "      <td>2</td>\n",
              "      <td>14</td>\n",
              "      <td>76537</td>\n",
              "      <td>1967.0</td>\n",
              "      <td>1.0</td>\n",
              "      <td>6.101562</td>\n",
              "      <td>0.0</td>\n",
              "      <td>4.398438</td>\n",
              "      <td>0.0</td>\n",
              "      <td>...</td>\n",
              "      <td>False</td>\n",
              "      <td>True</td>\n",
              "      <td>False</td>\n",
              "      <td>False</td>\n",
              "      <td>False</td>\n",
              "      <td>False</td>\n",
              "      <td>False</td>\n",
              "      <td>False</td>\n",
              "      <td>False</td>\n",
              "      <td>False</td>\n",
              "    </tr>\n",
              "    <tr>\n",
              "      <th>157388</th>\n",
              "      <td>808</td>\n",
              "      <td>0</td>\n",
              "      <td>8</td>\n",
              "      <td>9357</td>\n",
              "      <td>1967.0</td>\n",
              "      <td>1.0</td>\n",
              "      <td>23.906250</td>\n",
              "      <td>4.0</td>\n",
              "      <td>20.593750</td>\n",
              "      <td>0.0</td>\n",
              "      <td>...</td>\n",
              "      <td>False</td>\n",
              "      <td>False</td>\n",
              "      <td>False</td>\n",
              "      <td>False</td>\n",
              "      <td>False</td>\n",
              "      <td>False</td>\n",
              "      <td>False</td>\n",
              "      <td>False</td>\n",
              "      <td>False</td>\n",
              "      <td>False</td>\n",
              "    </tr>\n",
              "    <tr>\n",
              "      <th>...</th>\n",
              "      <td>...</td>\n",
              "      <td>...</td>\n",
              "      <td>...</td>\n",
              "      <td>...</td>\n",
              "      <td>...</td>\n",
              "      <td>...</td>\n",
              "      <td>...</td>\n",
              "      <td>...</td>\n",
              "      <td>...</td>\n",
              "      <td>...</td>\n",
              "      <td>...</td>\n",
              "      <td>...</td>\n",
              "      <td>...</td>\n",
              "      <td>...</td>\n",
              "      <td>...</td>\n",
              "      <td>...</td>\n",
              "      <td>...</td>\n",
              "      <td>...</td>\n",
              "      <td>...</td>\n",
              "      <td>...</td>\n",
              "      <td>...</td>\n",
              "    </tr>\n",
              "    <tr>\n",
              "      <th>200785</th>\n",
              "      <td>418</td>\n",
              "      <td>0</td>\n",
              "      <td>3</td>\n",
              "      <td>86120</td>\n",
              "      <td>1926.0</td>\n",
              "      <td>1.0</td>\n",
              "      <td>5.601562</td>\n",
              "      <td>4.0</td>\n",
              "      <td>-5.000000</td>\n",
              "      <td>0.0</td>\n",
              "      <td>...</td>\n",
              "      <td>False</td>\n",
              "      <td>False</td>\n",
              "      <td>False</td>\n",
              "      <td>False</td>\n",
              "      <td>False</td>\n",
              "      <td>False</td>\n",
              "      <td>False</td>\n",
              "      <td>False</td>\n",
              "      <td>False</td>\n",
              "      <td>False</td>\n",
              "    </tr>\n",
              "    <tr>\n",
              "      <th>200787</th>\n",
              "      <td>559</td>\n",
              "      <td>0</td>\n",
              "      <td>3</td>\n",
              "      <td>48994</td>\n",
              "      <td>2015.0</td>\n",
              "      <td>1.0</td>\n",
              "      <td>5.601562</td>\n",
              "      <td>6.0</td>\n",
              "      <td>1.700195</td>\n",
              "      <td>0.0</td>\n",
              "      <td>...</td>\n",
              "      <td>False</td>\n",
              "      <td>False</td>\n",
              "      <td>False</td>\n",
              "      <td>False</td>\n",
              "      <td>False</td>\n",
              "      <td>False</td>\n",
              "      <td>False</td>\n",
              "      <td>False</td>\n",
              "      <td>False</td>\n",
              "      <td>False</td>\n",
              "    </tr>\n",
              "    <tr>\n",
              "      <th>200789</th>\n",
              "      <td>780</td>\n",
              "      <td>0</td>\n",
              "      <td>6</td>\n",
              "      <td>120836</td>\n",
              "      <td>1967.0</td>\n",
              "      <td>1.0</td>\n",
              "      <td>5.601562</td>\n",
              "      <td>4.0</td>\n",
              "      <td>-9.398438</td>\n",
              "      <td>0.0</td>\n",
              "      <td>...</td>\n",
              "      <td>False</td>\n",
              "      <td>False</td>\n",
              "      <td>False</td>\n",
              "      <td>False</td>\n",
              "      <td>False</td>\n",
              "      <td>False</td>\n",
              "      <td>False</td>\n",
              "      <td>False</td>\n",
              "      <td>False</td>\n",
              "      <td>False</td>\n",
              "    </tr>\n",
              "    <tr>\n",
              "      <th>200794</th>\n",
              "      <td>1254</td>\n",
              "      <td>2</td>\n",
              "      <td>14</td>\n",
              "      <td>24979</td>\n",
              "      <td>1967.0</td>\n",
              "      <td>1.0</td>\n",
              "      <td>0.600098</td>\n",
              "      <td>0.0</td>\n",
              "      <td>-5.000000</td>\n",
              "      <td>0.0</td>\n",
              "      <td>...</td>\n",
              "      <td>False</td>\n",
              "      <td>False</td>\n",
              "      <td>False</td>\n",
              "      <td>False</td>\n",
              "      <td>False</td>\n",
              "      <td>False</td>\n",
              "      <td>False</td>\n",
              "      <td>False</td>\n",
              "      <td>False</td>\n",
              "      <td>False</td>\n",
              "    </tr>\n",
              "    <tr>\n",
              "      <th>200786</th>\n",
              "      <td>525</td>\n",
              "      <td>0</td>\n",
              "      <td>3</td>\n",
              "      <td>9062</td>\n",
              "      <td>1967.0</td>\n",
              "      <td>1.0</td>\n",
              "      <td>3.300781</td>\n",
              "      <td>0.0</td>\n",
              "      <td>-5.601562</td>\n",
              "      <td>0.0</td>\n",
              "      <td>...</td>\n",
              "      <td>False</td>\n",
              "      <td>True</td>\n",
              "      <td>False</td>\n",
              "      <td>False</td>\n",
              "      <td>False</td>\n",
              "      <td>False</td>\n",
              "      <td>False</td>\n",
              "      <td>False</td>\n",
              "      <td>False</td>\n",
              "      <td>False</td>\n",
              "    </tr>\n",
              "  </tbody>\n",
              "</table>\n",
              "<p>39034 rows × 31 columns</p>\n",
              "</div>\n",
              "      <button class=\"colab-df-convert\" onclick=\"convertToInteractive('df-900b652d-c19b-4950-b036-da650babf405')\"\n",
              "              title=\"Convert this dataframe to an interactive table.\"\n",
              "              style=\"display:none;\">\n",
              "        \n",
              "  <svg xmlns=\"http://www.w3.org/2000/svg\" height=\"24px\"viewBox=\"0 0 24 24\"\n",
              "       width=\"24px\">\n",
              "    <path d=\"M0 0h24v24H0V0z\" fill=\"none\"/>\n",
              "    <path d=\"M18.56 5.44l.94 2.06.94-2.06 2.06-.94-2.06-.94-.94-2.06-.94 2.06-2.06.94zm-11 1L8.5 8.5l.94-2.06 2.06-.94-2.06-.94L8.5 2.5l-.94 2.06-2.06.94zm10 10l.94 2.06.94-2.06 2.06-.94-2.06-.94-.94-2.06-.94 2.06-2.06.94z\"/><path d=\"M17.41 7.96l-1.37-1.37c-.4-.4-.92-.59-1.43-.59-.52 0-1.04.2-1.43.59L10.3 9.45l-7.72 7.72c-.78.78-.78 2.05 0 2.83L4 21.41c.39.39.9.59 1.41.59.51 0 1.02-.2 1.41-.59l7.78-7.78 2.81-2.81c.8-.78.8-2.07 0-2.86zM5.41 20L4 18.59l7.72-7.72 1.47 1.35L5.41 20z\"/>\n",
              "  </svg>\n",
              "      </button>\n",
              "      \n",
              "  <style>\n",
              "    .colab-df-container {\n",
              "      display:flex;\n",
              "      flex-wrap:wrap;\n",
              "      gap: 12px;\n",
              "    }\n",
              "\n",
              "    .colab-df-convert {\n",
              "      background-color: #E8F0FE;\n",
              "      border: none;\n",
              "      border-radius: 50%;\n",
              "      cursor: pointer;\n",
              "      display: none;\n",
              "      fill: #1967D2;\n",
              "      height: 32px;\n",
              "      padding: 0 0 0 0;\n",
              "      width: 32px;\n",
              "    }\n",
              "\n",
              "    .colab-df-convert:hover {\n",
              "      background-color: #E2EBFA;\n",
              "      box-shadow: 0px 1px 2px rgba(60, 64, 67, 0.3), 0px 1px 3px 1px rgba(60, 64, 67, 0.15);\n",
              "      fill: #174EA6;\n",
              "    }\n",
              "\n",
              "    [theme=dark] .colab-df-convert {\n",
              "      background-color: #3B4455;\n",
              "      fill: #D2E3FC;\n",
              "    }\n",
              "\n",
              "    [theme=dark] .colab-df-convert:hover {\n",
              "      background-color: #434B5C;\n",
              "      box-shadow: 0px 1px 3px 1px rgba(0, 0, 0, 0.15);\n",
              "      filter: drop-shadow(0px 1px 2px rgba(0, 0, 0, 0.3));\n",
              "      fill: #FFFFFF;\n",
              "    }\n",
              "  </style>\n",
              "\n",
              "      <script>\n",
              "        const buttonEl =\n",
              "          document.querySelector('#df-900b652d-c19b-4950-b036-da650babf405 button.colab-df-convert');\n",
              "        buttonEl.style.display =\n",
              "          google.colab.kernel.accessAllowed ? 'block' : 'none';\n",
              "\n",
              "        async function convertToInteractive(key) {\n",
              "          const element = document.querySelector('#df-900b652d-c19b-4950-b036-da650babf405');\n",
              "          const dataTable =\n",
              "            await google.colab.kernel.invokeFunction('convertToInteractive',\n",
              "                                                     [key], {});\n",
              "          if (!dataTable) return;\n",
              "\n",
              "          const docLinkHtml = 'Like what you see? Visit the ' +\n",
              "            '<a target=\"_blank\" href=https://colab.research.google.com/notebooks/data_table.ipynb>data table notebook</a>'\n",
              "            + ' to learn more about interactive tables.';\n",
              "          element.innerHTML = '';\n",
              "          dataTable['output_type'] = 'display_data';\n",
              "          await google.colab.output.renderOutput(dataTable, element);\n",
              "          const docLink = document.createElement('div');\n",
              "          docLink.innerHTML = docLinkHtml;\n",
              "          element.appendChild(docLink);\n",
              "        }\n",
              "      </script>\n",
              "    </div>\n",
              "  </div>\n",
              "  "
            ]
          },
          "metadata": {},
          "execution_count": 44
        }
      ]
    },
    {
      "cell_type": "markdown",
      "source": [
        "####1. Ridge Regression Model"
      ],
      "metadata": {
        "id": "v693eFp-Vom5"
      }
    },
    {
      "cell_type": "code",
      "source": [
        "from sklearn.linear_model import Ridge"
      ],
      "metadata": {
        "id": "2rIs3K71VxDz"
      },
      "execution_count": 45,
      "outputs": []
    },
    {
      "cell_type": "code",
      "source": [
        "%%time\n",
        "model_rr = Ridge(random_state=42,alpha=0.9)\n",
        "model_rr = model_rr.fit(X_train,y_train)"
      ],
      "metadata": {
        "colab": {
          "base_uri": "https://localhost:8080/"
        },
        "id": "l9mq1hVUV_Cd",
        "outputId": "4649abe9-81bb-4076-e030-26386ee94e71"
      },
      "execution_count": 46,
      "outputs": [
        {
          "output_type": "stream",
          "name": "stdout",
          "text": [
            "CPU times: user 316 ms, sys: 61.3 ms, total: 378 ms\n",
            "Wall time: 374 ms\n"
          ]
        }
      ]
    },
    {
      "cell_type": "code",
      "source": [
        "evaluate(model_rr, X_val_time, y_val_time, X_val_buildings, y_val_buildings)"
      ],
      "metadata": {
        "colab": {
          "base_uri": "https://localhost:8080/"
        },
        "id": "KCtF5r8EWU5T",
        "outputId": "beef8570-014e-45ac-826e-50a93637ded3"
      },
      "execution_count": 47,
      "outputs": [
        {
          "output_type": "stream",
          "name": "stdout",
          "text": [
            "Time predictions...\n",
            "Mean absolute error - time prediction: 722.5108211530039\n",
            "RMSLE - time prediction: 1.5440729728941012\n",
            "Building predictions...\n",
            "Mean absolute error - new buildings: 264.2590635233504\n",
            "RMSLE - new buildings: 1.6007067899496794\n"
          ]
        }
      ]
    },
    {
      "cell_type": "markdown",
      "source": [
        "####2. Random Forest Model"
      ],
      "metadata": {
        "id": "KUsVSZszKEVW"
      }
    },
    {
      "cell_type": "code",
      "source": [
        "from sklearn.ensemble import RandomForestRegressor"
      ],
      "metadata": {
        "id": "z-4HqlwtVGxX"
      },
      "execution_count": 48,
      "outputs": []
    },
    {
      "cell_type": "code",
      "source": [
        "%%time\n",
        "model_rf = RandomForestRegressor(n_estimators=100,max_depth=10,random_state=42)\n",
        "model_rf = model_rf.fit(X_train,y_train)"
      ],
      "metadata": {
        "id": "wAT4uteOVM-T",
        "colab": {
          "base_uri": "https://localhost:8080/"
        },
        "outputId": "97393529-06f8-42c0-fe7a-8b7cd57bd5fc"
      },
      "execution_count": 49,
      "outputs": [
        {
          "output_type": "stream",
          "name": "stdout",
          "text": [
            "CPU times: user 51.9 s, sys: 75 ms, total: 52 s\n",
            "Wall time: 51.7 s\n"
          ]
        }
      ]
    },
    {
      "cell_type": "code",
      "source": [
        "evaluate(model_rf, X_val_time, y_val_time, X_val_buildings, y_val_buildings)"
      ],
      "metadata": {
        "colab": {
          "base_uri": "https://localhost:8080/"
        },
        "id": "GsrZ9TQPVO1B",
        "outputId": "2caddc05-7840-44c7-82d0-d843213ad08b"
      },
      "execution_count": 50,
      "outputs": [
        {
          "output_type": "stream",
          "name": "stdout",
          "text": [
            "Time predictions...\n",
            "Mean absolute error - time prediction: 1981.657130653935\n",
            "RMSLE - time prediction: 1.5746471590092028\n",
            "Building predictions...\n",
            "Mean absolute error - new buildings: 216.59741385851024\n",
            "RMSLE - new buildings: 1.4005996446229543\n"
          ]
        }
      ]
    },
    {
      "cell_type": "markdown",
      "source": [
        "####3. XGBoost Model"
      ],
      "metadata": {
        "id": "G4Uz0p6QWm4p"
      }
    },
    {
      "cell_type": "code",
      "source": [
        "from xgboost import XGBRegressor"
      ],
      "metadata": {
        "id": "B6RuFP-5Wpzh"
      },
      "execution_count": 51,
      "outputs": []
    },
    {
      "cell_type": "code",
      "source": [
        "%%time\n",
        "model_xg = XGBRegressor(max_depth=5,random_state=42)\n",
        "mode_xg = model_xg.fit(X_train,y_train)"
      ],
      "metadata": {
        "colab": {
          "base_uri": "https://localhost:8080/"
        },
        "id": "rnNmDoL8WtkG",
        "outputId": "5a1e7224-a189-45a9-f18d-8e351c3e1a74"
      },
      "execution_count": 52,
      "outputs": [
        {
          "output_type": "stream",
          "name": "stdout",
          "text": [
            "[03:28:40] WARNING: /workspace/src/objective/regression_obj.cu:152: reg:linear is now deprecated in favor of reg:squarederror.\n",
            "CPU times: user 20.5 s, sys: 114 ms, total: 20.6 s\n",
            "Wall time: 21.8 s\n"
          ]
        }
      ]
    },
    {
      "cell_type": "code",
      "source": [
        "evaluate(model_xg, X_val_time, y_val_time, X_val_buildings, y_val_buildings)"
      ],
      "metadata": {
        "colab": {
          "base_uri": "https://localhost:8080/"
        },
        "id": "S0uy8qJPW-qc",
        "outputId": "5dd4177b-b11b-4a2f-c876-d8199e0f1c8f"
      },
      "execution_count": 53,
      "outputs": [
        {
          "output_type": "stream",
          "name": "stdout",
          "text": [
            "Time predictions...\n",
            "Mean absolute error - time prediction: 1027.2732\n",
            "RMSLE - time prediction: 1.5704128\n",
            "Building predictions...\n",
            "Mean absolute error - new buildings: 222.94385\n",
            "RMSLE - new buildings: 1.4202152\n"
          ]
        }
      ]
    },
    {
      "cell_type": "markdown",
      "source": [
        "####Hyperparameter Tuning"
      ],
      "metadata": {
        "id": "DZuZBeJmEgWk"
      }
    },
    {
      "cell_type": "code",
      "source": [
        "from sklearn.model_selection import train_test_split, GridSearchCV, TimeSeriesSplit\n",
        "from sklearn.metrics import make_scorer, mean_squared_error, mean_absolute_error, mean_squared_log_error\n",
        "\n",
        "params = {\n",
        "            'learning_rate': [.05, 0.07, .09],\n",
        "            'max_depth': [2, 3, 5, 10],\n",
        "            'n_estimators': [90,100,120],\n",
        "            'random_state':[42]\n",
        "         }\n",
        "\n",
        "rmse_scorer = make_scorer(rmse, greater_is_better=False)\n",
        "\n",
        "#spliting training data time series-wise for cross-validation\n",
        "tscv = TimeSeriesSplit(n_splits=3)\n",
        "\n",
        "#grid search\n",
        "xgb_grid = GridSearchCV(model_xg, scoring=rmse_scorer, cv=tscv, param_grid=params)\n",
        "print('GridSearchCV fitting...')\n",
        "xgb_grid.fit(X_train, y_train)\n",
        "scores = -1*xgb_grid.cv_results_['mean_test_score']\n",
        "params = xgb_grid.cv_results_['params']\n",
        "for i in range(0, len(scores)):\n",
        "  print(params[i], '->', scores[i])"
      ],
      "metadata": {
        "colab": {
          "base_uri": "https://localhost:8080/"
        },
        "id": "AYiHHtZQ6B5S",
        "outputId": "54c7fc8b-2cf9-422a-9f71-2bbfbd485c4e"
      },
      "execution_count": 54,
      "outputs": [
        {
          "output_type": "stream",
          "name": "stdout",
          "text": [
            "GridSearchCV fitting...\n",
            "[03:29:03] WARNING: /workspace/src/objective/regression_obj.cu:152: reg:linear is now deprecated in favor of reg:squarederror.\n",
            "[03:29:05] WARNING: /workspace/src/objective/regression_obj.cu:152: reg:linear is now deprecated in favor of reg:squarederror.\n",
            "[03:29:10] WARNING: /workspace/src/objective/regression_obj.cu:152: reg:linear is now deprecated in favor of reg:squarederror.\n",
            "[03:29:16] WARNING: /workspace/src/objective/regression_obj.cu:152: reg:linear is now deprecated in favor of reg:squarederror.\n",
            "[03:29:18] WARNING: /workspace/src/objective/regression_obj.cu:152: reg:linear is now deprecated in favor of reg:squarederror.\n",
            "[03:29:23] WARNING: /workspace/src/objective/regression_obj.cu:152: reg:linear is now deprecated in favor of reg:squarederror.\n",
            "[03:29:30] WARNING: /workspace/src/objective/regression_obj.cu:152: reg:linear is now deprecated in favor of reg:squarederror.\n",
            "[03:29:33] WARNING: /workspace/src/objective/regression_obj.cu:152: reg:linear is now deprecated in favor of reg:squarederror.\n",
            "[03:29:39] WARNING: /workspace/src/objective/regression_obj.cu:152: reg:linear is now deprecated in favor of reg:squarederror.\n",
            "[03:29:47] WARNING: /workspace/src/objective/regression_obj.cu:152: reg:linear is now deprecated in favor of reg:squarederror.\n",
            "[03:29:50] WARNING: /workspace/src/objective/regression_obj.cu:152: reg:linear is now deprecated in favor of reg:squarederror.\n",
            "[03:29:55] WARNING: /workspace/src/objective/regression_obj.cu:152: reg:linear is now deprecated in favor of reg:squarederror.\n",
            "[03:30:04] WARNING: /workspace/src/objective/regression_obj.cu:152: reg:linear is now deprecated in favor of reg:squarederror.\n",
            "[03:30:07] WARNING: /workspace/src/objective/regression_obj.cu:152: reg:linear is now deprecated in favor of reg:squarederror.\n",
            "[03:30:13] WARNING: /workspace/src/objective/regression_obj.cu:152: reg:linear is now deprecated in favor of reg:squarederror.\n",
            "[03:30:22] WARNING: /workspace/src/objective/regression_obj.cu:152: reg:linear is now deprecated in favor of reg:squarederror.\n",
            "[03:30:26] WARNING: /workspace/src/objective/regression_obj.cu:152: reg:linear is now deprecated in favor of reg:squarederror.\n",
            "[03:30:34] WARNING: /workspace/src/objective/regression_obj.cu:152: reg:linear is now deprecated in favor of reg:squarederror.\n",
            "[03:30:45] WARNING: /workspace/src/objective/regression_obj.cu:152: reg:linear is now deprecated in favor of reg:squarederror.\n",
            "[03:30:49] WARNING: /workspace/src/objective/regression_obj.cu:152: reg:linear is now deprecated in favor of reg:squarederror.\n",
            "[03:30:58] WARNING: /workspace/src/objective/regression_obj.cu:152: reg:linear is now deprecated in favor of reg:squarederror.\n",
            "[03:31:12] WARNING: /workspace/src/objective/regression_obj.cu:152: reg:linear is now deprecated in favor of reg:squarederror.\n",
            "[03:31:17] WARNING: /workspace/src/objective/regression_obj.cu:152: reg:linear is now deprecated in favor of reg:squarederror.\n",
            "[03:31:27] WARNING: /workspace/src/objective/regression_obj.cu:152: reg:linear is now deprecated in favor of reg:squarederror.\n",
            "[03:31:42] WARNING: /workspace/src/objective/regression_obj.cu:152: reg:linear is now deprecated in favor of reg:squarederror.\n",
            "[03:31:48] WARNING: /workspace/src/objective/regression_obj.cu:152: reg:linear is now deprecated in favor of reg:squarederror.\n",
            "[03:31:59] WARNING: /workspace/src/objective/regression_obj.cu:152: reg:linear is now deprecated in favor of reg:squarederror.\n",
            "[03:32:17] WARNING: /workspace/src/objective/regression_obj.cu:152: reg:linear is now deprecated in favor of reg:squarederror.\n",
            "[03:32:28] WARNING: /workspace/src/objective/regression_obj.cu:152: reg:linear is now deprecated in favor of reg:squarederror.\n",
            "[03:32:49] WARNING: /workspace/src/objective/regression_obj.cu:152: reg:linear is now deprecated in favor of reg:squarederror.\n",
            "[03:33:21] WARNING: /workspace/src/objective/regression_obj.cu:152: reg:linear is now deprecated in favor of reg:squarederror.\n",
            "[03:33:32] WARNING: /workspace/src/objective/regression_obj.cu:152: reg:linear is now deprecated in favor of reg:squarederror.\n",
            "[03:33:55] WARNING: /workspace/src/objective/regression_obj.cu:152: reg:linear is now deprecated in favor of reg:squarederror.\n",
            "[03:34:31] WARNING: /workspace/src/objective/regression_obj.cu:152: reg:linear is now deprecated in favor of reg:squarederror.\n",
            "[03:34:45] WARNING: /workspace/src/objective/regression_obj.cu:152: reg:linear is now deprecated in favor of reg:squarederror.\n",
            "[03:35:12] WARNING: /workspace/src/objective/regression_obj.cu:152: reg:linear is now deprecated in favor of reg:squarederror.\n",
            "[03:35:54] WARNING: /workspace/src/objective/regression_obj.cu:152: reg:linear is now deprecated in favor of reg:squarederror.\n",
            "[03:35:57] WARNING: /workspace/src/objective/regression_obj.cu:152: reg:linear is now deprecated in favor of reg:squarederror.\n",
            "[03:36:01] WARNING: /workspace/src/objective/regression_obj.cu:152: reg:linear is now deprecated in favor of reg:squarederror.\n",
            "[03:36:07] WARNING: /workspace/src/objective/regression_obj.cu:152: reg:linear is now deprecated in favor of reg:squarederror.\n",
            "[03:36:10] WARNING: /workspace/src/objective/regression_obj.cu:152: reg:linear is now deprecated in favor of reg:squarederror.\n",
            "[03:36:14] WARNING: /workspace/src/objective/regression_obj.cu:152: reg:linear is now deprecated in favor of reg:squarederror.\n",
            "[03:36:21] WARNING: /workspace/src/objective/regression_obj.cu:152: reg:linear is now deprecated in favor of reg:squarederror.\n",
            "[03:36:24] WARNING: /workspace/src/objective/regression_obj.cu:152: reg:linear is now deprecated in favor of reg:squarederror.\n",
            "[03:36:30] WARNING: /workspace/src/objective/regression_obj.cu:152: reg:linear is now deprecated in favor of reg:squarederror.\n",
            "[03:36:39] WARNING: /workspace/src/objective/regression_obj.cu:152: reg:linear is now deprecated in favor of reg:squarederror.\n",
            "[03:36:41] WARNING: /workspace/src/objective/regression_obj.cu:152: reg:linear is now deprecated in favor of reg:squarederror.\n",
            "[03:36:47] WARNING: /workspace/src/objective/regression_obj.cu:152: reg:linear is now deprecated in favor of reg:squarederror.\n",
            "[03:37:03] WARNING: /workspace/src/objective/regression_obj.cu:152: reg:linear is now deprecated in favor of reg:squarederror.\n",
            "[03:37:08] WARNING: /workspace/src/objective/regression_obj.cu:152: reg:linear is now deprecated in favor of reg:squarederror.\n",
            "[03:37:14] WARNING: /workspace/src/objective/regression_obj.cu:152: reg:linear is now deprecated in favor of reg:squarederror.\n",
            "[03:37:23] WARNING: /workspace/src/objective/regression_obj.cu:152: reg:linear is now deprecated in favor of reg:squarederror.\n",
            "[03:37:27] WARNING: /workspace/src/objective/regression_obj.cu:152: reg:linear is now deprecated in favor of reg:squarederror.\n",
            "[03:37:34] WARNING: /workspace/src/objective/regression_obj.cu:152: reg:linear is now deprecated in favor of reg:squarederror.\n",
            "[03:37:45] WARNING: /workspace/src/objective/regression_obj.cu:152: reg:linear is now deprecated in favor of reg:squarederror.\n",
            "[03:37:49] WARNING: /workspace/src/objective/regression_obj.cu:152: reg:linear is now deprecated in favor of reg:squarederror.\n",
            "[03:37:58] WARNING: /workspace/src/objective/regression_obj.cu:152: reg:linear is now deprecated in favor of reg:squarederror.\n",
            "[03:38:12] WARNING: /workspace/src/objective/regression_obj.cu:152: reg:linear is now deprecated in favor of reg:squarederror.\n",
            "[03:38:17] WARNING: /workspace/src/objective/regression_obj.cu:152: reg:linear is now deprecated in favor of reg:squarederror.\n",
            "[03:38:27] WARNING: /workspace/src/objective/regression_obj.cu:152: reg:linear is now deprecated in favor of reg:squarederror.\n",
            "[03:38:41] WARNING: /workspace/src/objective/regression_obj.cu:152: reg:linear is now deprecated in favor of reg:squarederror.\n",
            "[03:38:48] WARNING: /workspace/src/objective/regression_obj.cu:152: reg:linear is now deprecated in favor of reg:squarederror.\n",
            "[03:38:59] WARNING: /workspace/src/objective/regression_obj.cu:152: reg:linear is now deprecated in favor of reg:squarederror.\n",
            "[03:39:17] WARNING: /workspace/src/objective/regression_obj.cu:152: reg:linear is now deprecated in favor of reg:squarederror.\n",
            "[03:39:27] WARNING: /workspace/src/objective/regression_obj.cu:152: reg:linear is now deprecated in favor of reg:squarederror.\n",
            "[03:39:49] WARNING: /workspace/src/objective/regression_obj.cu:152: reg:linear is now deprecated in favor of reg:squarederror.\n",
            "[03:40:20] WARNING: /workspace/src/objective/regression_obj.cu:152: reg:linear is now deprecated in favor of reg:squarederror.\n",
            "[03:40:32] WARNING: /workspace/src/objective/regression_obj.cu:152: reg:linear is now deprecated in favor of reg:squarederror.\n",
            "[03:40:55] WARNING: /workspace/src/objective/regression_obj.cu:152: reg:linear is now deprecated in favor of reg:squarederror.\n",
            "[03:41:30] WARNING: /workspace/src/objective/regression_obj.cu:152: reg:linear is now deprecated in favor of reg:squarederror.\n",
            "[03:41:43] WARNING: /workspace/src/objective/regression_obj.cu:152: reg:linear is now deprecated in favor of reg:squarederror.\n",
            "[03:42:09] WARNING: /workspace/src/objective/regression_obj.cu:152: reg:linear is now deprecated in favor of reg:squarederror.\n",
            "[03:42:51] WARNING: /workspace/src/objective/regression_obj.cu:152: reg:linear is now deprecated in favor of reg:squarederror.\n",
            "[03:42:53] WARNING: /workspace/src/objective/regression_obj.cu:152: reg:linear is now deprecated in favor of reg:squarederror.\n",
            "[03:42:57] WARNING: /workspace/src/objective/regression_obj.cu:152: reg:linear is now deprecated in favor of reg:squarederror.\n",
            "[03:43:03] WARNING: /workspace/src/objective/regression_obj.cu:152: reg:linear is now deprecated in favor of reg:squarederror.\n",
            "[03:43:06] WARNING: /workspace/src/objective/regression_obj.cu:152: reg:linear is now deprecated in favor of reg:squarederror.\n",
            "[03:43:10] WARNING: /workspace/src/objective/regression_obj.cu:152: reg:linear is now deprecated in favor of reg:squarederror.\n",
            "[03:43:17] WARNING: /workspace/src/objective/regression_obj.cu:152: reg:linear is now deprecated in favor of reg:squarederror.\n",
            "[03:43:20] WARNING: /workspace/src/objective/regression_obj.cu:152: reg:linear is now deprecated in favor of reg:squarederror.\n",
            "[03:43:26] WARNING: /workspace/src/objective/regression_obj.cu:152: reg:linear is now deprecated in favor of reg:squarederror.\n",
            "[03:43:34] WARNING: /workspace/src/objective/regression_obj.cu:152: reg:linear is now deprecated in favor of reg:squarederror.\n",
            "[03:43:37] WARNING: /workspace/src/objective/regression_obj.cu:152: reg:linear is now deprecated in favor of reg:squarederror.\n",
            "[03:43:42] WARNING: /workspace/src/objective/regression_obj.cu:152: reg:linear is now deprecated in favor of reg:squarederror.\n",
            "[03:43:50] WARNING: /workspace/src/objective/regression_obj.cu:152: reg:linear is now deprecated in favor of reg:squarederror.\n",
            "[03:43:54] WARNING: /workspace/src/objective/regression_obj.cu:152: reg:linear is now deprecated in favor of reg:squarederror.\n",
            "[03:44:00] WARNING: /workspace/src/objective/regression_obj.cu:152: reg:linear is now deprecated in favor of reg:squarederror.\n",
            "[03:44:09] WARNING: /workspace/src/objective/regression_obj.cu:152: reg:linear is now deprecated in favor of reg:squarederror.\n",
            "[03:44:12] WARNING: /workspace/src/objective/regression_obj.cu:152: reg:linear is now deprecated in favor of reg:squarederror.\n",
            "[03:44:21] WARNING: /workspace/src/objective/regression_obj.cu:152: reg:linear is now deprecated in favor of reg:squarederror.\n",
            "[03:44:31] WARNING: /workspace/src/objective/regression_obj.cu:152: reg:linear is now deprecated in favor of reg:squarederror.\n",
            "[03:44:36] WARNING: /workspace/src/objective/regression_obj.cu:152: reg:linear is now deprecated in favor of reg:squarederror.\n",
            "[03:44:45] WARNING: /workspace/src/objective/regression_obj.cu:152: reg:linear is now deprecated in favor of reg:squarederror.\n",
            "[03:44:58] WARNING: /workspace/src/objective/regression_obj.cu:152: reg:linear is now deprecated in favor of reg:squarederror.\n",
            "[03:45:03] WARNING: /workspace/src/objective/regression_obj.cu:152: reg:linear is now deprecated in favor of reg:squarederror.\n",
            "[03:45:12] WARNING: /workspace/src/objective/regression_obj.cu:152: reg:linear is now deprecated in favor of reg:squarederror.\n",
            "[03:45:27] WARNING: /workspace/src/objective/regression_obj.cu:152: reg:linear is now deprecated in favor of reg:squarederror.\n",
            "[03:45:33] WARNING: /workspace/src/objective/regression_obj.cu:152: reg:linear is now deprecated in favor of reg:squarederror.\n",
            "[03:45:44] WARNING: /workspace/src/objective/regression_obj.cu:152: reg:linear is now deprecated in favor of reg:squarederror.\n",
            "[03:46:01] WARNING: /workspace/src/objective/regression_obj.cu:152: reg:linear is now deprecated in favor of reg:squarederror.\n",
            "[03:46:11] WARNING: /workspace/src/objective/regression_obj.cu:152: reg:linear is now deprecated in favor of reg:squarederror.\n",
            "[03:46:31] WARNING: /workspace/src/objective/regression_obj.cu:152: reg:linear is now deprecated in favor of reg:squarederror.\n",
            "[03:47:03] WARNING: /workspace/src/objective/regression_obj.cu:152: reg:linear is now deprecated in favor of reg:squarederror.\n",
            "[03:47:14] WARNING: /workspace/src/objective/regression_obj.cu:152: reg:linear is now deprecated in favor of reg:squarederror.\n",
            "[03:47:36] WARNING: /workspace/src/objective/regression_obj.cu:152: reg:linear is now deprecated in favor of reg:squarederror.\n",
            "[03:48:10] WARNING: /workspace/src/objective/regression_obj.cu:152: reg:linear is now deprecated in favor of reg:squarederror.\n",
            "[03:48:24] WARNING: /workspace/src/objective/regression_obj.cu:152: reg:linear is now deprecated in favor of reg:squarederror.\n",
            "[03:48:50] WARNING: /workspace/src/objective/regression_obj.cu:152: reg:linear is now deprecated in favor of reg:squarederror.\n",
            "[03:49:31] WARNING: /workspace/src/objective/regression_obj.cu:152: reg:linear is now deprecated in favor of reg:squarederror.\n",
            "{'learning_rate': 0.05, 'max_depth': 2, 'n_estimators': 90, 'random_state': 42} -> 2.108932534853617\n",
            "{'learning_rate': 0.05, 'max_depth': 2, 'n_estimators': 100, 'random_state': 42} -> 2.1041204929351807\n",
            "{'learning_rate': 0.05, 'max_depth': 2, 'n_estimators': 120, 'random_state': 42} -> 2.0952994426091514\n",
            "{'learning_rate': 0.05, 'max_depth': 3, 'n_estimators': 90, 'random_state': 42} -> 2.068869153658549\n",
            "{'learning_rate': 0.05, 'max_depth': 3, 'n_estimators': 100, 'random_state': 42} -> 2.058618664741516\n",
            "{'learning_rate': 0.05, 'max_depth': 3, 'n_estimators': 120, 'random_state': 42} -> 2.0446799198786416\n",
            "{'learning_rate': 0.05, 'max_depth': 5, 'n_estimators': 90, 'random_state': 42} -> 1.9504682620366414\n",
            "{'learning_rate': 0.05, 'max_depth': 5, 'n_estimators': 100, 'random_state': 42} -> 1.94244388739268\n",
            "{'learning_rate': 0.05, 'max_depth': 5, 'n_estimators': 120, 'random_state': 42} -> 1.931421200434367\n",
            "{'learning_rate': 0.05, 'max_depth': 10, 'n_estimators': 90, 'random_state': 42} -> 1.8365819454193115\n",
            "{'learning_rate': 0.05, 'max_depth': 10, 'n_estimators': 100, 'random_state': 42} -> 1.831741213798523\n",
            "{'learning_rate': 0.05, 'max_depth': 10, 'n_estimators': 120, 'random_state': 42} -> 1.8249900738398235\n",
            "{'learning_rate': 0.07, 'max_depth': 2, 'n_estimators': 90, 'random_state': 42} -> 2.0933022499084473\n",
            "{'learning_rate': 0.07, 'max_depth': 2, 'n_estimators': 100, 'random_state': 42} -> 2.089132785797119\n",
            "{'learning_rate': 0.07, 'max_depth': 2, 'n_estimators': 120, 'random_state': 42} -> 2.083187739054362\n",
            "{'learning_rate': 0.07, 'max_depth': 3, 'n_estimators': 90, 'random_state': 42} -> 2.0377719402313232\n",
            "{'learning_rate': 0.07, 'max_depth': 3, 'n_estimators': 100, 'random_state': 42} -> 2.0283660888671875\n",
            "{'learning_rate': 0.07, 'max_depth': 3, 'n_estimators': 120, 'random_state': 42} -> 2.0133203268051147\n",
            "{'learning_rate': 0.07, 'max_depth': 5, 'n_estimators': 90, 'random_state': 42} -> 1.926189661026001\n",
            "{'learning_rate': 0.07, 'max_depth': 5, 'n_estimators': 100, 'random_state': 42} -> 1.9191940625508626\n",
            "{'learning_rate': 0.07, 'max_depth': 5, 'n_estimators': 120, 'random_state': 42} -> 1.9060262441635132\n",
            "{'learning_rate': 0.07, 'max_depth': 10, 'n_estimators': 90, 'random_state': 42} -> 1.8310698668162029\n",
            "{'learning_rate': 0.07, 'max_depth': 10, 'n_estimators': 100, 'random_state': 42} -> 1.829178810119629\n",
            "{'learning_rate': 0.07, 'max_depth': 10, 'n_estimators': 120, 'random_state': 42} -> 1.8261560201644897\n",
            "{'learning_rate': 0.09, 'max_depth': 2, 'n_estimators': 90, 'random_state': 42} -> 2.0825130939483643\n",
            "{'learning_rate': 0.09, 'max_depth': 2, 'n_estimators': 100, 'random_state': 42} -> 2.075754483540853\n",
            "{'learning_rate': 0.09, 'max_depth': 2, 'n_estimators': 120, 'random_state': 42} -> 2.0615758101145425\n",
            "{'learning_rate': 0.09, 'max_depth': 3, 'n_estimators': 90, 'random_state': 42} -> 2.022974689801534\n",
            "{'learning_rate': 0.09, 'max_depth': 3, 'n_estimators': 100, 'random_state': 42} -> 2.0164511601130166\n",
            "{'learning_rate': 0.09, 'max_depth': 3, 'n_estimators': 120, 'random_state': 42} -> 2.007145325342814\n",
            "{'learning_rate': 0.09, 'max_depth': 5, 'n_estimators': 90, 'random_state': 42} -> 1.9121315081914265\n",
            "{'learning_rate': 0.09, 'max_depth': 5, 'n_estimators': 100, 'random_state': 42} -> 1.9038577874501545\n",
            "{'learning_rate': 0.09, 'max_depth': 5, 'n_estimators': 120, 'random_state': 42} -> 1.8917909860610962\n",
            "{'learning_rate': 0.09, 'max_depth': 10, 'n_estimators': 90, 'random_state': 42} -> 1.8153951565424602\n",
            "{'learning_rate': 0.09, 'max_depth': 10, 'n_estimators': 100, 'random_state': 42} -> 1.8143037954966228\n",
            "{'learning_rate': 0.09, 'max_depth': 10, 'n_estimators': 120, 'random_state': 42} -> 1.8137450615564983\n"
          ]
        }
      ]
    },
    {
      "cell_type": "code",
      "source": [
        "%%time\n",
        "model_xg_mod = XGBRegressor(max_depth=10,learning_rate=0.09,n_estimators=120,random_state=42)\n",
        "model_xg_mod = model_xg.fit(X_train,y_train)"
      ],
      "metadata": {
        "colab": {
          "base_uri": "https://localhost:8080/"
        },
        "id": "UgPn87OL8VHs",
        "outputId": "87794ad1-aea0-4a16-c34b-a3cb83b30491"
      },
      "execution_count": 55,
      "outputs": [
        {
          "output_type": "stream",
          "name": "stdout",
          "text": [
            "[03:50:26] WARNING: /workspace/src/objective/regression_obj.cu:152: reg:linear is now deprecated in favor of reg:squarederror.\n",
            "CPU times: user 20 s, sys: 103 ms, total: 20.1 s\n",
            "Wall time: 20 s\n"
          ]
        }
      ]
    },
    {
      "cell_type": "code",
      "source": [
        "evaluate(model_xg_mod, X_val_time, y_val_time, X_val_buildings, y_val_buildings)"
      ],
      "metadata": {
        "colab": {
          "base_uri": "https://localhost:8080/"
        },
        "id": "Z6ZcPzjjDoOT",
        "outputId": "159d68c3-9de7-48d7-ce80-e46d8e5c12d5"
      },
      "execution_count": 56,
      "outputs": [
        {
          "output_type": "stream",
          "name": "stdout",
          "text": [
            "Time predictions...\n",
            "Mean absolute error - time prediction: 1027.2732\n",
            "RMSLE - time prediction: 1.5704128\n",
            "Building predictions...\n",
            "Mean absolute error - new buildings: 222.94385\n",
            "RMSLE - new buildings: 1.4202152\n"
          ]
        }
      ]
    }
  ],
  "metadata": {
    "colab": {
      "collapsed_sections": [
        "tjmOP_bbUhtw",
        "L0TXX4_FWxUo",
        "BGkgWhXM3iyw",
        "k4rMnHQu5V4t",
        "RhLp9-HGFTWv",
        "YPftB4QKFlhk",
        "S8LsD0gcKoVg",
        "b-XWPPNJU8a7",
        "D8hvhQrzU2O7",
        "Z7rNqhRXIpLC",
        "gnV_5wqaJIpM",
        "Jxlz9SqTSmrb",
        "v693eFp-Vom5",
        "KUsVSZszKEVW",
        "G4Uz0p6QWm4p",
        "DZuZBeJmEgWk"
      ],
      "name": "Copy of Baic Models.ipynb",
      "provenance": []
    },
    "gpuClass": "standard",
    "kernelspec": {
      "display_name": "Python 3",
      "name": "python3"
    },
    "language_info": {
      "name": "python"
    }
  },
  "nbformat": 4,
  "nbformat_minor": 0
}